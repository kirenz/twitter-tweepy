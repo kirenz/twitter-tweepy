{
 "cells": [
  {
   "cell_type": "markdown",
   "metadata": {},
   "source": [
    "# Einführung in spaCy\n",
    "\n",
    "Dise Einführung basiert auf der [spaCy Dokumentation](https://course.spacy.io/de/chapter1).\n",
    "\n",
    "\n",
    "## Installation\n",
    "\n",
    "Wir nutzen Anaconda für die Installation von spaCy:\n",
    "\n",
    "```python\n",
    "conda install -c conda-forge spacy\n",
    "```\n",
    "\n"
   ]
  },
  {
   "cell_type": "markdown",
   "metadata": {},
   "source": [
    "## Erste Schritte"
   ]
  },
  {
   "cell_type": "markdown",
   "metadata": {},
   "source": [
    "###  nlp-Objekt"
   ]
  },
  {
   "cell_type": "code",
   "execution_count": 2,
   "metadata": {},
   "outputs": [],
   "source": [
    "# Importiere spaCy\n",
    "import spacy\n",
    "\n",
    "# Erstelle ein leeres deutsches nlp-Objekt\n",
    "nlp = spacy.blank(\"de\")"
   ]
  },
  {
   "cell_type": "markdown",
   "metadata": {},
   "source": [
    "### doc-objekt"
   ]
  },
  {
   "cell_type": "code",
   "execution_count": 4,
   "metadata": {},
   "outputs": [
    {
     "name": "stdout",
     "output_type": "stream",
     "text": [
      "Hallo\n",
      "Welt\n",
      "!\n"
     ]
    }
   ],
   "source": [
    "# Erstellt durch Verarbeitung eines Strings mit dem nlp-Objekt\n",
    "doc = nlp(\"Hallo Welt!\")\n",
    "\n",
    "# Iteriere über Tokens in einem Doc\n",
    "for token in doc:\n",
    "    print(token.text)"
   ]
  },
  {
   "cell_type": "markdown",
   "metadata": {},
   "source": [
    "### token-Objekt"
   ]
  },
  {
   "cell_type": "code",
   "execution_count": 6,
   "metadata": {},
   "outputs": [
    {
     "name": "stdout",
     "output_type": "stream",
     "text": [
      "Welt\n"
     ]
    }
   ],
   "source": [
    "# Greife auf einen Token über seinen Index im Doc zu\n",
    "token = doc[1]\n",
    "\n",
    "# Erhalte den Text des Tokens über das Attribut .text\n",
    "print(token.text)\n"
   ]
  },
  {
   "cell_type": "markdown",
   "metadata": {},
   "source": [
    "### span-Objekt"
   ]
  },
  {
   "cell_type": "code",
   "execution_count": 7,
   "metadata": {},
   "outputs": [
    {
     "name": "stdout",
     "output_type": "stream",
     "text": [
      "Welt!\n"
     ]
    }
   ],
   "source": [
    "\n",
    "# Ein Abschnitt des Doc-Objekts ist ein Span-Objekt\n",
    "span = doc[1:3]\n",
    "\n",
    "# Erhalte den Text der Span über das Attribut .text\n",
    "print(span.text)"
   ]
  },
  {
   "cell_type": "markdown",
   "metadata": {},
   "source": [
    "### Lexikalische Attribute"
   ]
  },
  {
   "cell_type": "code",
   "execution_count": 8,
   "metadata": {},
   "outputs": [],
   "source": [
    "doc = nlp(\"Es kostet 5€.\")\n"
   ]
  },
  {
   "cell_type": "code",
   "execution_count": 9,
   "metadata": {},
   "outputs": [
    {
     "name": "stdout",
     "output_type": "stream",
     "text": [
      "Index:    [0, 1, 2]\n",
      "Text:     ['Es', 'kostet', '5€.']\n",
      "is_alpha: [True, True, False]\n",
      "is_punct: [False, False, False]\n",
      "like_num: [False, False, False]\n"
     ]
    }
   ],
   "source": [
    "print(\"Index:   \", [token.i for token in doc])\n",
    "\n",
    "print(\"Text:    \", [token.text for token in doc])\n",
    "\n",
    "print(\"is_alpha:\", [token.is_alpha for token in doc])\n",
    "print(\"is_punct:\", [token.is_punct for token in doc])\n",
    "print(\"like_num:\", [token.like_num for token in doc])\n"
   ]
  }
 ],
 "metadata": {
  "interpreter": {
   "hash": "463226f144cc21b006ce6927bfc93dd00694e52c8bc6857abb6e555b983749e9"
  },
  "kernelspec": {
   "display_name": "Python 3.8.2 64-bit ('base': conda)",
   "language": "python",
   "name": "python3"
  },
  "language_info": {
   "codemirror_mode": {
    "name": "ipython",
    "version": 3
   },
   "file_extension": ".py",
   "mimetype": "text/x-python",
   "name": "python",
   "nbconvert_exporter": "python",
   "pygments_lexer": "ipython3",
   "version": "3.8.2"
  },
  "orig_nbformat": 4
 },
 "nbformat": 4,
 "nbformat_minor": 2
}
