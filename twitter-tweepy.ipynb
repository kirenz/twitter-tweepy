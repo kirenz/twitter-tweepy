{
 "cells": [
  {
   "cell_type": "markdown",
   "metadata": {},
   "source": [
    "# Usage of Twitter API v2 with tweepy and pandas in Python"
   ]
  },
  {
   "cell_type": "markdown",
   "metadata": {},
   "source": [
    "In this tutorial, we'll cover the setup to get started with the [Twitter API v2](https://developer.twitter.com/en/docs/twitter-api) using Python and tweepy.\n",
    "\n",
    "1. [Sign up with Twitter](https://help.twitter.com/en/using-twitter/create-twitter-account)\n",
    "2. Create an App in the [developer account](https://developer.twitter.com/en/portal/dashboard): Follow steps 1 and 2 in this [Twitter article](https://developer.twitter.com/en/docs/tutorials/step-by-step-guide-to-making-your-first-request-to-the-twitter-api-v2)\n",
    "3. Obtain the access token and access token secret. These can be generated in your [developer portal](https://developer.twitter.com/en/portal/projects-and-apps), under the “Keys and tokens” tab for your developer App.\n",
    "4. Next, we need to install tweepy. Installation with Anaconda: `conda install -c conda-forge tweepy`\n",
    "\n",
    "Note that we use the free \"Essential access\" method and therefore have the following limitations:\n",
    "\n",
    "- 500,000 Tweets per month\n",
    "- 1 Project per account\n",
    "- 1 App environment per Project\n",
    "- No access to standard v1.1, premium v1.1, or enterprise"
   ]
  },
  {
   "cell_type": "markdown",
   "metadata": {},
   "source": [
    "Now we are ready to import tweepy:"
   ]
  },
  {
   "cell_type": "code",
   "execution_count": 12,
   "metadata": {},
   "outputs": [],
   "source": [
    "import tweepy"
   ]
  },
  {
   "cell_type": "markdown",
   "metadata": {},
   "source": [
    "## Create keys"
   ]
  },
  {
   "cell_type": "markdown",
   "metadata": {},
   "source": [
    "We need to provide the Twitter keys and tokens in order to use the API v2. Therefore, we first create a simple Python script called `keys.py` in which we store all passwords. Save this script in the same folder as this notebook:\n",
    "\n",
    "```python\n",
    "consumer_key=\"insert your API key\"\n",
    "consumer_secret=\"insert your API secret\"\n",
    "access_token=\"insert your access token\"\n",
    "access_token_secret=\"insert your access token secret\"\n",
    "bearer_token =\"insert your bearer token\"\n",
    "```"
   ]
  },
  {
   "cell_type": "markdown",
   "metadata": {},
   "source": [
    "## Make a connection with API v2\n",
    "\n",
    "We import the keys and use them in the function [tweepy.Client](https://docs.tweepy.org/en/stable/client.html):"
   ]
  },
  {
   "cell_type": "code",
   "execution_count": 13,
   "metadata": {},
   "outputs": [],
   "source": [
    "from keys import *"
   ]
  },
  {
   "cell_type": "code",
   "execution_count": 14,
   "metadata": {},
   "outputs": [],
   "source": [
    "import requests\n",
    "\n",
    "client = tweepy.Client( bearer_token=bearer_token, \n",
    "                        consumer_key=consumer_key, \n",
    "                        consumer_secret=consumer_secret, \n",
    "                        access_token=access_token, \n",
    "                        access_token_secret=access_token_secret, \n",
    "                        return_type = requests.Response,\n",
    "                        wait_on_rate_limit=True)"
   ]
  },
  {
   "cell_type": "markdown",
   "metadata": {},
   "source": [
    "## Make a query"
   ]
  },
  {
   "cell_type": "markdown",
   "metadata": {},
   "source": [
    "Let's search Tweets from Elon Musk's Twitter account \"@elonmusk\" from the last 7 days ([`search_recent_tweets`](https://developer.twitter.com/en/docs/twitter-api/tweets/search/api-reference/get-tweets-search-recent)). We exclude Retweets and limit the result to a maximum of 100 Tweets. We also include some additional information with `tweet_fields` (author id and when the Tweet was created)."
   ]
  },
  {
   "cell_type": "code",
   "execution_count": 16,
   "metadata": {},
   "outputs": [],
   "source": [
    "# Define query\n",
    "query = 'from:elonmusk -is:retweet'\n",
    "\n",
    "# get max. 10 tweets\n",
    "tweets = client.search_recent_tweets(query=query, \n",
    "                                    tweet_fields=['author_id', 'created_at'],\n",
    "                                     max_results=100)"
   ]
  },
  {
   "cell_type": "markdown",
   "metadata": {},
   "source": [
    "## Convert to pandas Dataframe\n",
    "\n",
    "Finally, we convert the data to a pandas Dataframe. "
   ]
  },
  {
   "cell_type": "code",
   "execution_count": 7,
   "metadata": {},
   "outputs": [],
   "source": [
    "import pandas as pd\n",
    "\n",
    "# Save data as dictionary\n",
    "tweets_dict = tweets.json() \n",
    "\n",
    "# Extract \"data\" value from dictionary\n",
    "tweets_data = tweets_dict['data'] \n",
    "\n",
    "# Transform to pandas Dataframe\n",
    "df = pd.json_normalize(tweets_data) "
   ]
  },
  {
   "cell_type": "code",
   "execution_count": 8,
   "metadata": {},
   "outputs": [
    {
     "data": {
      "text/html": [
       "<div>\n",
       "<style scoped>\n",
       "    .dataframe tbody tr th:only-of-type {\n",
       "        vertical-align: middle;\n",
       "    }\n",
       "\n",
       "    .dataframe tbody tr th {\n",
       "        vertical-align: top;\n",
       "    }\n",
       "\n",
       "    .dataframe thead th {\n",
       "        text-align: right;\n",
       "    }\n",
       "</style>\n",
       "<table border=\"1\" class=\"dataframe\">\n",
       "  <thead>\n",
       "    <tr style=\"text-align: right;\">\n",
       "      <th></th>\n",
       "      <th>created_at</th>\n",
       "      <th>text</th>\n",
       "      <th>id</th>\n",
       "      <th>author_id</th>\n",
       "    </tr>\n",
       "  </thead>\n",
       "  <tbody>\n",
       "    <tr>\n",
       "      <th>0</th>\n",
       "      <td>2021-12-09T15:02:04.000Z</td>\n",
       "      <td>Wir unterstützen die Impfkampagne #ZusammenGeg...</td>\n",
       "      <td>1468959134003326977</td>\n",
       "      <td>148370382</td>\n",
       "    </tr>\n",
       "    <tr>\n",
       "      <th>1</th>\n",
       "      <td>2021-12-09T12:01:25.000Z</td>\n",
       "      <td>Studierende der HdM haben Ulrich Land und Jörg...</td>\n",
       "      <td>1468913675348193285</td>\n",
       "      <td>148370382</td>\n",
       "    </tr>\n",
       "    <tr>\n",
       "      <th>2</th>\n",
       "      <td>2021-12-08T09:15:47.000Z</td>\n",
       "      <td>Die Hochschulen der Region Stuttgart laden unt...</td>\n",
       "      <td>1468509602295734272</td>\n",
       "      <td>148370382</td>\n",
       "    </tr>\n",
       "    <tr>\n",
       "      <th>3</th>\n",
       "      <td>2021-12-06T16:14:36.000Z</td>\n",
       "      <td>Seit Oktober 2021 ist Prof. Dr. Bernd Schmid-R...</td>\n",
       "      <td>1467890227121471488</td>\n",
       "      <td>148370382</td>\n",
       "    </tr>\n",
       "  </tbody>\n",
       "</table>\n",
       "</div>"
      ],
      "text/plain": [
       "                 created_at  \\\n",
       "0  2021-12-09T15:02:04.000Z   \n",
       "1  2021-12-09T12:01:25.000Z   \n",
       "2  2021-12-08T09:15:47.000Z   \n",
       "3  2021-12-06T16:14:36.000Z   \n",
       "\n",
       "                                                text                   id  \\\n",
       "0  Wir unterstützen die Impfkampagne #ZusammenGeg...  1468959134003326977   \n",
       "1  Studierende der HdM haben Ulrich Land und Jörg...  1468913675348193285   \n",
       "2  Die Hochschulen der Region Stuttgart laden unt...  1468509602295734272   \n",
       "3  Seit Oktober 2021 ist Prof. Dr. Bernd Schmid-R...  1467890227121471488   \n",
       "\n",
       "   author_id  \n",
       "0  148370382  \n",
       "1  148370382  \n",
       "2  148370382  \n",
       "3  148370382  "
      ]
     },
     "execution_count": 8,
     "metadata": {},
     "output_type": "execute_result"
    }
   ],
   "source": [
    "df"
   ]
  },
  {
   "cell_type": "code",
   "execution_count": 10,
   "metadata": {},
   "outputs": [],
   "source": [
    "# save df\n",
    "df.to_csv(\"tweets.csv\")"
   ]
  }
 ],
 "metadata": {
  "interpreter": {
   "hash": "463226f144cc21b006ce6927bfc93dd00694e52c8bc6857abb6e555b983749e9"
  },
  "kernelspec": {
   "display_name": "Python 3.8.2 64-bit ('base': conda)",
   "language": "python",
   "name": "python3"
  },
  "language_info": {
   "codemirror_mode": {
    "name": "ipython",
    "version": 3
   },
   "file_extension": ".py",
   "mimetype": "text/x-python",
   "name": "python",
   "nbconvert_exporter": "python",
   "pygments_lexer": "ipython3",
   "version": "3.8.2"
  },
  "orig_nbformat": 4
 },
 "nbformat": 4,
 "nbformat_minor": 2
}
