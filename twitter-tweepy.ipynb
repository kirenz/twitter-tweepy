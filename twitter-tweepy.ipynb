{
 "cells": [
  {
   "cell_type": "markdown",
   "metadata": {},
   "source": [
    "# Usage of Twitter API v2 with tweepy and pandas in Python"
   ]
  },
  {
   "cell_type": "markdown",
   "metadata": {},
   "source": [
    "In this tutorial, we'll cover the setup to get started with the [Twitter API v2](https://developer.twitter.com/en/docs/twitter-api) using Python and tweepy.\n",
    "\n",
    "1. [Sign up with Twitter](https://help.twitter.com/en/using-twitter/create-twitter-account)\n",
    "2. Create an App in the [developer account](https://developer.twitter.com/en/portal/dashboard): Follow steps 1 and 2 in this [Twitter article](https://developer.twitter.com/en/docs/tutorials/step-by-step-guide-to-making-your-first-request-to-the-twitter-api-v2)\n",
    "3. Obtain the access token and access token secret. These can be generated in your [developer portal](https://developer.twitter.com/en/portal/projects-and-apps), under the “Keys and tokens” tab for your developer App.\n",
    "4. Next, we need to install tweepy. Installation with Anaconda: `conda install -c conda-forge tweepy`\n",
    "\n",
    "Note that we use the free \"Essential access\" method and therefore have the following limitations:\n",
    "\n",
    "- 500,000 Tweets per month\n",
    "- 1 Project per account\n",
    "- 1 App environment per Project\n",
    "- No access to standard v1.1, premium v1.1, or enterprise"
   ]
  },
  {
   "cell_type": "markdown",
   "metadata": {},
   "source": [
    "Now we are ready to import tweepy:"
   ]
  },
  {
   "cell_type": "code",
   "execution_count": 1,
   "metadata": {},
   "outputs": [],
   "source": [
    "import tweepy"
   ]
  },
  {
   "cell_type": "markdown",
   "metadata": {},
   "source": [
    "## Create keys"
   ]
  },
  {
   "cell_type": "markdown",
   "metadata": {},
   "source": [
    "We need to provide the Twitter keys and tokens in order to use the API v2. Therefore, we first create a simple Python script called `keys.py` in which we store all passwords. Save this script in the same folder as this notebook:\n",
    "\n",
    "```python\n",
    "consumer_key=\"insert your API key\"\n",
    "consumer_secret=\"insert your API secret\"\n",
    "access_token=\"insert your access token\"\n",
    "access_token_secret=\"insert your access token secret\"\n",
    "bearer_token =\"insert your bearer token\"\n",
    "```"
   ]
  },
  {
   "cell_type": "markdown",
   "metadata": {},
   "source": [
    "## Make a connection with API v2\n",
    "\n",
    "We import the keys and use them in the function [tweepy.Client](https://docs.tweepy.org/en/stable/client.html):"
   ]
  },
  {
   "cell_type": "code",
   "execution_count": 2,
   "metadata": {},
   "outputs": [],
   "source": [
    "from keys import *"
   ]
  },
  {
   "cell_type": "code",
   "execution_count": 3,
   "metadata": {},
   "outputs": [],
   "source": [
    "import requests\n",
    "\n",
    "client = tweepy.Client( bearer_token=bearer_token, \n",
    "                        consumer_key=consumer_key, \n",
    "                        consumer_secret=consumer_secret, \n",
    "                        access_token=access_token, \n",
    "                        access_token_secret=access_token_secret, \n",
    "                        return_type = requests.Response,\n",
    "                        wait_on_rate_limit=True)"
   ]
  },
  {
   "cell_type": "markdown",
   "metadata": {},
   "source": [
    "## Make a query"
   ]
  },
  {
   "cell_type": "markdown",
   "metadata": {},
   "source": [
    "Let's search Tweets from Elon Musk's Twitter account \"@elonmusk\" from the last 7 days ([`search_recent_tweets`](https://developer.twitter.com/en/docs/twitter-api/tweets/search/api-reference/get-tweets-search-recent)). We exclude Retweets and limit the result to a maximum of 100 Tweets. We also include some additional information with `tweet_fields` (author id and when the Tweet was created)."
   ]
  },
  {
   "cell_type": "code",
   "execution_count": 4,
   "metadata": {},
   "outputs": [],
   "source": [
    "# Define query\n",
    "query = 'from:elonmusk -is:retweet'\n",
    "\n",
    "# get max. 10 tweets\n",
    "tweets = client.search_recent_tweets(query=query, \n",
    "                                    tweet_fields=['author_id', 'created_at'],\n",
    "                                     max_results=100)"
   ]
  },
  {
   "cell_type": "markdown",
   "metadata": {},
   "source": [
    "## Convert to pandas Dataframe\n",
    "\n",
    "Finally, we convert the data to a pandas Dataframe. "
   ]
  },
  {
   "cell_type": "code",
   "execution_count": 5,
   "metadata": {},
   "outputs": [],
   "source": [
    "import pandas as pd\n",
    "\n",
    "# Save data as dictionary\n",
    "tweets_dict = tweets.json() \n",
    "\n",
    "# Extract \"data\" value from dictionary\n",
    "tweets_data = tweets_dict['data'] \n",
    "\n",
    "# Transform to pandas Dataframe\n",
    "df = pd.json_normalize(tweets_data) "
   ]
  },
  {
   "cell_type": "code",
   "execution_count": 6,
   "metadata": {},
   "outputs": [
    {
     "data": {
      "text/html": [
       "<div>\n",
       "<style scoped>\n",
       "    .dataframe tbody tr th:only-of-type {\n",
       "        vertical-align: middle;\n",
       "    }\n",
       "\n",
       "    .dataframe tbody tr th {\n",
       "        vertical-align: top;\n",
       "    }\n",
       "\n",
       "    .dataframe thead th {\n",
       "        text-align: right;\n",
       "    }\n",
       "</style>\n",
       "<table border=\"1\" class=\"dataframe\">\n",
       "  <thead>\n",
       "    <tr style=\"text-align: right;\">\n",
       "      <th></th>\n",
       "      <th>created_at</th>\n",
       "      <th>text</th>\n",
       "      <th>id</th>\n",
       "      <th>author_id</th>\n",
       "    </tr>\n",
       "  </thead>\n",
       "  <tbody>\n",
       "    <tr>\n",
       "      <th>0</th>\n",
       "      <td>2021-12-12T09:51:36.000Z</td>\n",
       "      <td>@HardcoreHistory I think I mentioned “octane” ...</td>\n",
       "      <td>1469968168189931521</td>\n",
       "      <td>44196397</td>\n",
       "    </tr>\n",
       "    <tr>\n",
       "      <th>1</th>\n",
       "      <td>2021-12-12T09:11:01.000Z</td>\n",
       "      <td>@RationalEtienne @balajis Sonic, the Hedgehog,...</td>\n",
       "      <td>1469957953142808579</td>\n",
       "      <td>44196397</td>\n",
       "    </tr>\n",
       "    <tr>\n",
       "      <th>2</th>\n",
       "      <td>2021-12-12T03:44:29.000Z</td>\n",
       "      <td>Just did a @HardcoreHistory episode with Dan C...</td>\n",
       "      <td>1469875780901609472</td>\n",
       "      <td>44196397</td>\n",
       "    </tr>\n",
       "    <tr>\n",
       "      <th>3</th>\n",
       "      <td>2021-12-12T00:23:16.000Z</td>\n",
       "      <td>@teslaownersSV It takes 20 years (time from co...</td>\n",
       "      <td>1469825142758989824</td>\n",
       "      <td>44196397</td>\n",
       "    </tr>\n",
       "    <tr>\n",
       "      <th>4</th>\n",
       "      <td>2021-12-11T20:33:36.000Z</td>\n",
       "      <td>@ItsGime @BillyM2k Maybe a little 😉</td>\n",
       "      <td>1469767343802884102</td>\n",
       "      <td>44196397</td>\n",
       "    </tr>\n",
       "    <tr>\n",
       "      <th>...</th>\n",
       "      <td>...</td>\n",
       "      <td>...</td>\n",
       "      <td>...</td>\n",
       "      <td>...</td>\n",
       "    </tr>\n",
       "    <tr>\n",
       "      <th>80</th>\n",
       "      <td>2021-12-06T20:44:50.000Z</td>\n",
       "      <td>@DrSallyL @Tesla Coming soon. Lot of cool stuff.</td>\n",
       "      <td>1467958233482604546</td>\n",
       "      <td>44196397</td>\n",
       "    </tr>\n",
       "    <tr>\n",
       "      <th>81</th>\n",
       "      <td>2021-12-06T20:25:43.000Z</td>\n",
       "      <td>@kimpaquette Tesla publishes accident statisti...</td>\n",
       "      <td>1467953422116831242</td>\n",
       "      <td>44196397</td>\n",
       "    </tr>\n",
       "    <tr>\n",
       "      <th>82</th>\n",
       "      <td>2021-12-06T05:42:48.000Z</td>\n",
       "      <td>As always, Tesla is looking for hardcore AI en...</td>\n",
       "      <td>1467731226609999872</td>\n",
       "      <td>44196397</td>\n",
       "    </tr>\n",
       "    <tr>\n",
       "      <th>83</th>\n",
       "      <td>2021-12-06T01:44:54.000Z</td>\n",
       "      <td>@AEIecon @SciGuySpace @JimPethokoukis @PE_Podc...</td>\n",
       "      <td>1467671360285589509</td>\n",
       "      <td>44196397</td>\n",
       "    </tr>\n",
       "    <tr>\n",
       "      <th>84</th>\n",
       "      <td>2021-12-05T19:14:07.000Z</td>\n",
       "      <td>@EPavlic He is quite a bossy dog :)</td>\n",
       "      <td>1467573012765593602</td>\n",
       "      <td>44196397</td>\n",
       "    </tr>\n",
       "  </tbody>\n",
       "</table>\n",
       "<p>85 rows × 4 columns</p>\n",
       "</div>"
      ],
      "text/plain": [
       "                  created_at  \\\n",
       "0   2021-12-12T09:51:36.000Z   \n",
       "1   2021-12-12T09:11:01.000Z   \n",
       "2   2021-12-12T03:44:29.000Z   \n",
       "3   2021-12-12T00:23:16.000Z   \n",
       "4   2021-12-11T20:33:36.000Z   \n",
       "..                       ...   \n",
       "80  2021-12-06T20:44:50.000Z   \n",
       "81  2021-12-06T20:25:43.000Z   \n",
       "82  2021-12-06T05:42:48.000Z   \n",
       "83  2021-12-06T01:44:54.000Z   \n",
       "84  2021-12-05T19:14:07.000Z   \n",
       "\n",
       "                                                 text                   id  \\\n",
       "0   @HardcoreHistory I think I mentioned “octane” ...  1469968168189931521   \n",
       "1   @RationalEtienne @balajis Sonic, the Hedgehog,...  1469957953142808579   \n",
       "2   Just did a @HardcoreHistory episode with Dan C...  1469875780901609472   \n",
       "3   @teslaownersSV It takes 20 years (time from co...  1469825142758989824   \n",
       "4                 @ItsGime @BillyM2k Maybe a little 😉  1469767343802884102   \n",
       "..                                                ...                  ...   \n",
       "80   @DrSallyL @Tesla Coming soon. Lot of cool stuff.  1467958233482604546   \n",
       "81  @kimpaquette Tesla publishes accident statisti...  1467953422116831242   \n",
       "82  As always, Tesla is looking for hardcore AI en...  1467731226609999872   \n",
       "83  @AEIecon @SciGuySpace @JimPethokoukis @PE_Podc...  1467671360285589509   \n",
       "84                @EPavlic He is quite a bossy dog :)  1467573012765593602   \n",
       "\n",
       "   author_id  \n",
       "0   44196397  \n",
       "1   44196397  \n",
       "2   44196397  \n",
       "3   44196397  \n",
       "4   44196397  \n",
       "..       ...  \n",
       "80  44196397  \n",
       "81  44196397  \n",
       "82  44196397  \n",
       "83  44196397  \n",
       "84  44196397  \n",
       "\n",
       "[85 rows x 4 columns]"
      ]
     },
     "execution_count": 6,
     "metadata": {},
     "output_type": "execute_result"
    }
   ],
   "source": [
    "df"
   ]
  },
  {
   "cell_type": "code",
   "execution_count": 10,
   "metadata": {},
   "outputs": [],
   "source": [
    "# save df\n",
    "df.to_csv(\"tweets.csv\")"
   ]
  }
 ],
 "metadata": {
  "interpreter": {
   "hash": "463226f144cc21b006ce6927bfc93dd00694e52c8bc6857abb6e555b983749e9"
  },
  "kernelspec": {
   "display_name": "Python 3 (ipykernel)",
   "language": "python",
   "name": "python3"
  },
  "language_info": {
   "codemirror_mode": {
    "name": "ipython",
    "version": 3
   },
   "file_extension": ".py",
   "mimetype": "text/x-python",
   "name": "python",
   "nbconvert_exporter": "python",
   "pygments_lexer": "ipython3",
   "version": "3.8.2"
  },
  "varInspector": {
   "cols": {
    "lenName": 16,
    "lenType": 16,
    "lenVar": 40
   },
   "kernels_config": {
    "python": {
     "delete_cmd_postfix": "",
     "delete_cmd_prefix": "del ",
     "library": "var_list.py",
     "varRefreshCmd": "print(var_dic_list())"
    },
    "r": {
     "delete_cmd_postfix": ") ",
     "delete_cmd_prefix": "rm(",
     "library": "var_list.r",
     "varRefreshCmd": "cat(var_dic_list()) "
    }
   },
   "types_to_exclude": [
    "module",
    "function",
    "builtin_function_or_method",
    "instance",
    "_Feature"
   ],
   "window_display": false
  }
 },
 "nbformat": 4,
 "nbformat_minor": 2
}
