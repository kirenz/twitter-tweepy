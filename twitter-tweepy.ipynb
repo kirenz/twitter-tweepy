{
 "cells": [
  {
   "cell_type": "markdown",
   "metadata": {
    "slideshow": {
     "slide_type": "slide"
    }
   },
   "source": [
    "# Usage of Twitter API v2 with tweepy and pandas in Python"
   ]
  },
  {
   "cell_type": "markdown",
   "metadata": {
    "slideshow": {
     "slide_type": "slide"
    }
   },
   "source": [
    "In this tutorial, we'll cover the setup to get started with the [Twitter API v2](https://developer.twitter.com/en/docs/twitter-api) using Python and tweepy.\n",
    "\n",
    "1. [Sign up with Twitter](https://help.twitter.com/en/using-twitter/create-twitter-account)\n",
    "2. Create an App in the [developer account](https://developer.twitter.com/en/portal/dashboard): Follow steps 1 and 2 in this [Twitter article](https://developer.twitter.com/en/docs/tutorials/step-by-step-guide-to-making-your-first-request-to-the-twitter-api-v2)\n",
    "3. Obtain the access token and access token secret. These can be generated in your [developer portal](https://developer.twitter.com/en/portal/projects-and-apps), under the “Keys and tokens” tab for your developer App.\n",
    "4. Next, we need to install tweepy. Installation with Anaconda: `conda install -c conda-forge tweepy`\n",
    "\n",
    "Note that we use the free \"Essential access\" method and therefore have the following limitations:\n",
    "\n",
    "- 500,000 Tweets per month\n",
    "- 1 Project per account\n",
    "- 1 App environment per Project\n",
    "- No access to standard v1.1, premium v1.1, or enterprise"
   ]
  },
  {
   "cell_type": "markdown",
   "metadata": {
    "slideshow": {
     "slide_type": "slide"
    }
   },
   "source": [
    "Now we are ready to import tweepy:"
   ]
  },
  {
   "cell_type": "code",
   "execution_count": 1,
   "metadata": {
    "slideshow": {
     "slide_type": "fragment"
    }
   },
   "outputs": [],
   "source": [
    "import tweepy"
   ]
  },
  {
   "cell_type": "markdown",
   "metadata": {
    "slideshow": {
     "slide_type": "slide"
    }
   },
   "source": [
    "## Create keys"
   ]
  },
  {
   "cell_type": "markdown",
   "metadata": {
    "slideshow": {
     "slide_type": "fragment"
    }
   },
   "source": [
    "- We need to provide the Twitter keys and tokens in order to use the API v2. \n",
    "\n",
    "- Therefore, we first create a simple Python script called `keys.py` in which we store all passwords. \n",
    "\n",
    "We create the file with the following commands:\n",
    "1. we create a variable called `keys.py`\n",
    "1. we create the file with `%%writefile`: this will save this script in the same folder as this notebook\n",
    "1. open `keys.py` and insert your keys.  "
   ]
  },
  {
   "cell_type": "code",
   "execution_count": 3,
   "metadata": {},
   "outputs": [],
   "source": [
    "# Create variable\n",
    "file_name = 'keys.py'"
   ]
  },
  {
   "cell_type": "code",
   "execution_count": 4,
   "metadata": {},
   "outputs": [
    {
     "name": "stdout",
     "output_type": "stream",
     "text": [
      "Writing keys.py\n"
     ]
    }
   ],
   "source": [
    "%%writefile {file_name}\n",
    "\n",
    "consumer_key=\"insert your API key\"\n",
    "consumer_secret=\"insert your API secret\"\n",
    "access_token=\"insert your access token\"\n",
    "access_token_secret=\"insert your access token secret\"\n",
    "bearer_token=\"insert your bearer token\""
   ]
  },
  {
   "cell_type": "markdown",
   "metadata": {
    "slideshow": {
     "slide_type": "slide"
    }
   },
   "source": [
    "## Make a connection with API v2\n",
    "\n",
    "We import the keys and use them in the function [tweepy.Client](https://docs.tweepy.org/en/stable/client.html):"
   ]
  },
  {
   "cell_type": "code",
   "execution_count": 5,
   "metadata": {
    "slideshow": {
     "slide_type": "fragment"
    }
   },
   "outputs": [],
   "source": [
    "from keys import *"
   ]
  },
  {
   "cell_type": "code",
   "execution_count": 6,
   "metadata": {
    "slideshow": {
     "slide_type": "fragment"
    }
   },
   "outputs": [],
   "source": [
    "import requests\n",
    "\n",
    "client = tweepy.Client( bearer_token=bearer_token, \n",
    "                        consumer_key=consumer_key, \n",
    "                        consumer_secret=consumer_secret, \n",
    "                        access_token=access_token, \n",
    "                        access_token_secret=access_token_secret, \n",
    "                        return_type = requests.Response,\n",
    "                        wait_on_rate_limit=True)"
   ]
  },
  {
   "cell_type": "markdown",
   "metadata": {
    "slideshow": {
     "slide_type": "slide"
    }
   },
   "source": [
    "## Make a query"
   ]
  },
  {
   "cell_type": "markdown",
   "metadata": {
    "slideshow": {
     "slide_type": "fragment"
    }
   },
   "source": [
    "- Let's search Tweets from Barack Obama's Twitter account (@BarackObama) from the last 7 days ([`search_recent_tweets`](https://developer.twitter.com/en/docs/twitter-api/tweets/search/api-reference/get-tweets-search-recent)). \n",
    "- We exclude Retweets and limit the result to a maximum of 100 Tweets. \n",
    "- We also include some additional information with `tweet_fields` (author id and when the Tweet was created)."
   ]
  },
  {
   "cell_type": "code",
   "execution_count": 16,
   "metadata": {
    "slideshow": {
     "slide_type": "slide"
    }
   },
   "outputs": [],
   "source": [
    "# Define query\n",
    "query = 'from:BarackObama -is:retweet'\n",
    "\n",
    "# get max. 100 tweets\n",
    "tweets = client.search_recent_tweets(query=query, \n",
    "                                    tweet_fields=['author_id', 'created_at'],\n",
    "                                     max_results=100)"
   ]
  },
  {
   "cell_type": "markdown",
   "metadata": {
    "slideshow": {
     "slide_type": "slide"
    }
   },
   "source": [
    "## Convert to pandas Dataframe\n",
    "\n",
    "Finally, we convert the data to a pandas Dataframe. "
   ]
  },
  {
   "cell_type": "code",
   "execution_count": 19,
   "metadata": {
    "slideshow": {
     "slide_type": "slide"
    }
   },
   "outputs": [],
   "source": [
    "import pandas as pd\n",
    "\n",
    "# Save data as dictionary\n",
    "tweets_dict = tweets.json() \n",
    "\n",
    "# Extract \"data\" value from dictionary\n",
    "tweets_data = tweets_dict['data'] \n",
    "\n",
    "# Transform to pandas Dataframe\n",
    "df = pd.json_normalize(tweets_data) \n"
   ]
  },
  {
   "cell_type": "code",
   "execution_count": 20,
   "metadata": {
    "slideshow": {
     "slide_type": "slide"
    }
   },
   "outputs": [
    {
     "data": {
      "text/html": [
       "<div>\n",
       "<style scoped>\n",
       "    .dataframe tbody tr th:only-of-type {\n",
       "        vertical-align: middle;\n",
       "    }\n",
       "\n",
       "    .dataframe tbody tr th {\n",
       "        vertical-align: top;\n",
       "    }\n",
       "\n",
       "    .dataframe thead th {\n",
       "        text-align: right;\n",
       "    }\n",
       "</style>\n",
       "<table border=\"1\" class=\"dataframe\">\n",
       "  <thead>\n",
       "    <tr style=\"text-align: right;\">\n",
       "      <th></th>\n",
       "      <th>created_at</th>\n",
       "      <th>id</th>\n",
       "      <th>author_id</th>\n",
       "      <th>text</th>\n",
       "    </tr>\n",
       "  </thead>\n",
       "  <tbody>\n",
       "    <tr>\n",
       "      <th>0</th>\n",
       "      <td>2022-05-16T21:24:35.000Z</td>\n",
       "      <td>1526312680226799618</td>\n",
       "      <td>813286</td>\n",
       "      <td>It’s despicable, it’s dangerous — and it needs...</td>\n",
       "    </tr>\n",
       "    <tr>\n",
       "      <th>1</th>\n",
       "      <td>2022-05-16T21:24:34.000Z</td>\n",
       "      <td>1526312678951641088</td>\n",
       "      <td>813286</td>\n",
       "      <td>We need to repudiate in the strongest terms th...</td>\n",
       "    </tr>\n",
       "    <tr>\n",
       "      <th>2</th>\n",
       "      <td>2022-05-16T21:24:34.000Z</td>\n",
       "      <td>1526312677521428480</td>\n",
       "      <td>813286</td>\n",
       "      <td>This weekend’s shootings in Buffalo offer a tr...</td>\n",
       "    </tr>\n",
       "    <tr>\n",
       "      <th>3</th>\n",
       "      <td>2022-05-16T13:16:16.000Z</td>\n",
       "      <td>1526189794665107457</td>\n",
       "      <td>813286</td>\n",
       "      <td>I’m proud to announce the Voyager Scholarship ...</td>\n",
       "    </tr>\n",
       "    <tr>\n",
       "      <th>4</th>\n",
       "      <td>2022-05-14T15:03:07.000Z</td>\n",
       "      <td>1525491905139773442</td>\n",
       "      <td>813286</td>\n",
       "      <td>Across the country, Americans are standing up ...</td>\n",
       "    </tr>\n",
       "  </tbody>\n",
       "</table>\n",
       "</div>"
      ],
      "text/plain": [
       "                 created_at                   id author_id  \\\n",
       "0  2022-05-16T21:24:35.000Z  1526312680226799618    813286   \n",
       "1  2022-05-16T21:24:34.000Z  1526312678951641088    813286   \n",
       "2  2022-05-16T21:24:34.000Z  1526312677521428480    813286   \n",
       "3  2022-05-16T13:16:16.000Z  1526189794665107457    813286   \n",
       "4  2022-05-14T15:03:07.000Z  1525491905139773442    813286   \n",
       "\n",
       "                                                text  \n",
       "0  It’s despicable, it’s dangerous — and it needs...  \n",
       "1  We need to repudiate in the strongest terms th...  \n",
       "2  This weekend’s shootings in Buffalo offer a tr...  \n",
       "3  I’m proud to announce the Voyager Scholarship ...  \n",
       "4  Across the country, Americans are standing up ...  "
      ]
     },
     "execution_count": 20,
     "metadata": {},
     "output_type": "execute_result"
    }
   ],
   "source": [
    "df"
   ]
  },
  {
   "cell_type": "code",
   "execution_count": 21,
   "metadata": {
    "slideshow": {
     "slide_type": "slide"
    }
   },
   "outputs": [],
   "source": [
    "# save df\n",
    "df.to_csv(\"tweets-obama.csv\")"
   ]
  }
 ],
 "metadata": {
  "celltoolbar": "Slideshow",
  "interpreter": {
   "hash": "382e9b3ae7fece5ac776021ec82a23b5674b7a3a0d3a43441ebaa89aee2b29a3"
  },
  "kernelspec": {
   "display_name": "Python 3.9.12 ('nltk')",
   "language": "python",
   "name": "python3"
  },
  "language_info": {
   "codemirror_mode": {
    "name": "ipython",
    "version": 3
   },
   "file_extension": ".py",
   "mimetype": "text/x-python",
   "name": "python",
   "nbconvert_exporter": "python",
   "pygments_lexer": "ipython3",
   "version": "3.9.12"
  },
  "varInspector": {
   "cols": {
    "lenName": 16,
    "lenType": 16,
    "lenVar": 40
   },
   "kernels_config": {
    "python": {
     "delete_cmd_postfix": "",
     "delete_cmd_prefix": "del ",
     "library": "var_list.py",
     "varRefreshCmd": "print(var_dic_list())"
    },
    "r": {
     "delete_cmd_postfix": ") ",
     "delete_cmd_prefix": "rm(",
     "library": "var_list.r",
     "varRefreshCmd": "cat(var_dic_list()) "
    }
   },
   "types_to_exclude": [
    "module",
    "function",
    "builtin_function_or_method",
    "instance",
    "_Feature"
   ],
   "window_display": false
  }
 },
 "nbformat": 4,
 "nbformat_minor": 2
}
