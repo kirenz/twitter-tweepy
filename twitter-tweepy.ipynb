{
 "cells": [
  {
   "cell_type": "markdown",
   "metadata": {},
   "source": [
    "# Twitter API v2 & tweepy in Python"
   ]
  },
  {
   "cell_type": "markdown",
   "metadata": {},
   "source": [
    "In this tutorial, we'll cover the setup to get started with the Twitter API v2 using Python and tweepy.\n",
    "\n",
    "1. [Sign up with Twitter](https://help.twitter.com/en/using-twitter/create-twitter-account)\n",
    "2. Create an App in the [developer account](https://developer.twitter.com/en/portal/dashboard): Follow steps 1 and 2 in this [Twitter article](https://developer.twitter.com/en/docs/tutorials/step-by-step-guide-to-making-your-first-request-to-the-twitter-api-v2)\n",
    "3. Obtain the access token and access token secret. These can be generated in your [developer portal](https://developer.twitter.com/en/portal/projects-and-apps), under the “Keys and tokens” tab for your developer App.\n",
    "4. Next, we need to install tweepy. Installation with Anaconda: `conda install -c conda-forge tweepy`\n"
   ]
  },
  {
   "cell_type": "markdown",
   "metadata": {},
   "source": [
    "Now we are ready to import tweepy:"
   ]
  },
  {
   "cell_type": "code",
   "execution_count": 11,
   "metadata": {},
   "outputs": [],
   "source": [
    "import tweepy"
   ]
  },
  {
   "cell_type": "markdown",
   "metadata": {},
   "source": [
    "## Create keys"
   ]
  },
  {
   "cell_type": "markdown",
   "metadata": {},
   "source": [
    "Note that we need to provide the Twitter keys and tokens in order to use the API. Therefore, we first create a simple Python script called `keys.py` in which we store all passwords. Save this script in the same folder as this notebook:\n",
    "\n",
    "```python\n",
    "consumer_key=\"insert your API key\"\n",
    "consumer_secret=\"insert your API secret\"\n",
    "access_token=\"insert your access token\"\n",
    "access_token_secret=\"insert your access token secret\"\n",
    "bearer_token =\"insert your bearer token\"\n",
    "```\n",
    "\n",
    "We import the keys and use them in the function [tweepy.Client](https://docs.tweepy.org/en/stable/client.html)"
   ]
  },
  {
   "cell_type": "code",
   "execution_count": 13,
   "metadata": {},
   "outputs": [],
   "source": [
    "from keys import *"
   ]
  },
  {
   "cell_type": "markdown",
   "metadata": {},
   "source": [
    "## Make a connection"
   ]
  },
  {
   "cell_type": "code",
   "execution_count": 14,
   "metadata": {},
   "outputs": [],
   "source": [
    "# Make a connection \n",
    "import requests\n",
    "\n",
    "client = tweepy.Client( bearer_token=bearer_token, \n",
    "                        consumer_key=consumer_key, \n",
    "                        consumer_secret=consumer_secret, \n",
    "                        access_token=access_token, \n",
    "                        access_token_secret=access_token_secret, \n",
    "                        return_type = requests.Response,\n",
    "                        wait_on_rate_limit=True)"
   ]
  },
  {
   "cell_type": "markdown",
   "metadata": {},
   "source": [
    "## Make a query"
   ]
  },
  {
   "cell_type": "markdown",
   "metadata": {},
   "source": [
    "Let's search Tweets from the Twitter account \"hdm_stgt\" from the last 7 days ([`search_recent_tweets`](https://developer.twitter.com/en/docs/twitter-api/tweets/search/api-reference/get-tweets-search-recent)). We exclude Retweets and limit the result to 10. We also include some additional information with tweet_fields."
   ]
  },
  {
   "cell_type": "code",
   "execution_count": 20,
   "metadata": {},
   "outputs": [],
   "source": [
    "# Define query\n",
    "query = 'from:hdm_stgt -is:retweet'\n",
    "\n",
    "# get 10 tweets\n",
    "tweets = client.search_recent_tweets(query=query, \n",
    "                                    tweet_fields=['author_id', 'created_at'],\n",
    "                                     max_results=10)"
   ]
  },
  {
   "cell_type": "code",
   "execution_count": 21,
   "metadata": {},
   "outputs": [
    {
     "data": {
      "text/plain": [
       "'{\"data\":[{\"id\":\"1468959134003326977\",\"text\":\"Wir unterstützen die Impfkampagne #ZusammenGegenCorona und haben unseren Slogan STUDIEREN.WISSEN.MACHEN. angepasst. \\\\nInfos zur Impfung in Stuttgart gibt es unter:\\\\nhttps://t.co/fRwtZ25XAI https://t.co/iWErEaJSrs\",\"created_at\":\"2021-12-09T15:02:04.000Z\",\"author_id\":\"148370382\"},{\"id\":\"1468913675348193285\",\"text\":\"Studierende der HdM haben Ulrich Land und Jörg Marksteiner für ihr Radiofeature in der Sendung Dok 5 - Das Feature (WDR 5) und Erik Hane für seinen Film in der Sendung planet e. (ZDF) mit dem Medienethik-Award META 2021 ausgezeichnet. Wir gratulieren \\\\uD83D\\\\uDC4F: \\\\nhttps://t.co/0qOAAqVQ8C https://t.co/lSvMEABFdi\",\"created_at\":\"2021-12-09T12:01:25.000Z\",\"author_id\":\"148370382\"},{\"id\":\"1468509602295734272\",\"text\":\"Die Hochschulen der Region Stuttgart laden unter dem Motto \\\\\"Explore the Future\\\\\" zur Reihe Teens University für Schülerinnen und Schüler ab zwölf Jahren ein. Immer freitags, jeweils um 16 Uhr, werden dazu Veranstaltungen angeboten, auch von der HdM:\\\\nhttps://t.co/8oUL4aq2BF https://t.co/BNY2MXT8Np\",\"created_at\":\"2021-12-08T09:15:47.000Z\",\"author_id\":\"148370382\"},{\"id\":\"1467890227121471488\",\"text\":\"Seit Oktober 2021 ist Prof. Dr. Bernd Schmid-Ruhe aus dem Studiengang Informationswissenschaften neuer Prodekan in der Fakultät Information und Kommunikation an der HdM. Er steht im Dekanat der Fakultät für das Thema \\\\\"Kommunikation\\\\\": \\\\nhttps://t.co/4IEdIzasSi https://t.co/xruJfgCzpw\",\"created_at\":\"2021-12-06T16:14:36.000Z\",\"author_id\":\"148370382\"},{\"id\":\"1466693917341110276\",\"text\":\"Am 9.12.2021 findet an der HdM eine Online-Fachtagung in der Reihe \\\\\"IDEepolis\\\\\" statt. Auf der Tagesordnung stehen ethische Fragen rund um das Thema Nachhaltigkeit und Digitalisierung. Bei der Veranstaltung wird auch der Medienethik-Award (META) verliehen: https://t.co/kaDzpHT6XX https://t.co/UtQMLNh0CP\",\"created_at\":\"2021-12-03T09:00:54.000Z\",\"author_id\":\"148370382\"}],\"meta\":{\"newest_id\":\"1468959134003326977\",\"oldest_id\":\"1466693917341110276\",\"result_count\":5}}'"
      ]
     },
     "execution_count": 21,
     "metadata": {},
     "output_type": "execute_result"
    }
   ],
   "source": [
    "tweets.text"
   ]
  },
  {
   "cell_type": "markdown",
   "metadata": {},
   "source": [
    "## Convert to pandas Dataframe"
   ]
  },
  {
   "cell_type": "code",
   "execution_count": 30,
   "metadata": {},
   "outputs": [],
   "source": [
    "from pandas import json_normalize\n",
    "\n",
    "dict = tweets.json()\n",
    "recs = dict['data']\n",
    "df = json_normalize(recs)"
   ]
  },
  {
   "cell_type": "code",
   "execution_count": 28,
   "metadata": {},
   "outputs": [
    {
     "data": {
      "text/html": [
       "<div>\n",
       "<style scoped>\n",
       "    .dataframe tbody tr th:only-of-type {\n",
       "        vertical-align: middle;\n",
       "    }\n",
       "\n",
       "    .dataframe tbody tr th {\n",
       "        vertical-align: top;\n",
       "    }\n",
       "\n",
       "    .dataframe thead th {\n",
       "        text-align: right;\n",
       "    }\n",
       "</style>\n",
       "<table border=\"1\" class=\"dataframe\">\n",
       "  <thead>\n",
       "    <tr style=\"text-align: right;\">\n",
       "      <th></th>\n",
       "      <th>id</th>\n",
       "      <th>text</th>\n",
       "      <th>created_at</th>\n",
       "      <th>author_id</th>\n",
       "    </tr>\n",
       "  </thead>\n",
       "  <tbody>\n",
       "    <tr>\n",
       "      <th>0</th>\n",
       "      <td>1468959134003326977</td>\n",
       "      <td>Wir unterstützen die Impfkampagne #ZusammenGeg...</td>\n",
       "      <td>2021-12-09T15:02:04.000Z</td>\n",
       "      <td>148370382</td>\n",
       "    </tr>\n",
       "    <tr>\n",
       "      <th>1</th>\n",
       "      <td>1468913675348193285</td>\n",
       "      <td>Studierende der HdM haben Ulrich Land und Jörg...</td>\n",
       "      <td>2021-12-09T12:01:25.000Z</td>\n",
       "      <td>148370382</td>\n",
       "    </tr>\n",
       "    <tr>\n",
       "      <th>2</th>\n",
       "      <td>1468509602295734272</td>\n",
       "      <td>Die Hochschulen der Region Stuttgart laden unt...</td>\n",
       "      <td>2021-12-08T09:15:47.000Z</td>\n",
       "      <td>148370382</td>\n",
       "    </tr>\n",
       "    <tr>\n",
       "      <th>3</th>\n",
       "      <td>1467890227121471488</td>\n",
       "      <td>Seit Oktober 2021 ist Prof. Dr. Bernd Schmid-R...</td>\n",
       "      <td>2021-12-06T16:14:36.000Z</td>\n",
       "      <td>148370382</td>\n",
       "    </tr>\n",
       "    <tr>\n",
       "      <th>4</th>\n",
       "      <td>1466693917341110276</td>\n",
       "      <td>Am 9.12.2021 findet an der HdM eine Online-Fac...</td>\n",
       "      <td>2021-12-03T09:00:54.000Z</td>\n",
       "      <td>148370382</td>\n",
       "    </tr>\n",
       "  </tbody>\n",
       "</table>\n",
       "</div>"
      ],
      "text/plain": [
       "                    id                                               text  \\\n",
       "0  1468959134003326977  Wir unterstützen die Impfkampagne #ZusammenGeg...   \n",
       "1  1468913675348193285  Studierende der HdM haben Ulrich Land und Jörg...   \n",
       "2  1468509602295734272  Die Hochschulen der Region Stuttgart laden unt...   \n",
       "3  1467890227121471488  Seit Oktober 2021 ist Prof. Dr. Bernd Schmid-R...   \n",
       "4  1466693917341110276  Am 9.12.2021 findet an der HdM eine Online-Fac...   \n",
       "\n",
       "                 created_at  author_id  \n",
       "0  2021-12-09T15:02:04.000Z  148370382  \n",
       "1  2021-12-09T12:01:25.000Z  148370382  \n",
       "2  2021-12-08T09:15:47.000Z  148370382  \n",
       "3  2021-12-06T16:14:36.000Z  148370382  \n",
       "4  2021-12-03T09:00:54.000Z  148370382  "
      ]
     },
     "execution_count": 28,
     "metadata": {},
     "output_type": "execute_result"
    }
   ],
   "source": [
    "df"
   ]
  }
 ],
 "metadata": {
  "interpreter": {
   "hash": "463226f144cc21b006ce6927bfc93dd00694e52c8bc6857abb6e555b983749e9"
  },
  "kernelspec": {
   "display_name": "Python 3.8.2 64-bit ('base': conda)",
   "language": "python",
   "name": "python3"
  },
  "language_info": {
   "codemirror_mode": {
    "name": "ipython",
    "version": 3
   },
   "file_extension": ".py",
   "mimetype": "text/x-python",
   "name": "python",
   "nbconvert_exporter": "python",
   "pygments_lexer": "ipython3",
   "version": "3.7.11"
  },
  "orig_nbformat": 4
 },
 "nbformat": 4,
 "nbformat_minor": 2
}
