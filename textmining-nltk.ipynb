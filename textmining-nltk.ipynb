{
 "cells": [
  {
   "cell_type": "markdown",
   "metadata": {
    "slideshow": {
     "slide_type": "slide"
    }
   },
   "source": [
    "# Text Mining and Sentiment Analysis with NLTK and pandas in Python\n",
    "\n"
   ]
  },
  {
   "cell_type": "markdown",
   "metadata": {
    "slideshow": {
     "slide_type": "slide"
    }
   },
   "source": [
    "## Data import"
   ]
  },
  {
   "cell_type": "code",
   "execution_count": 267,
   "metadata": {
    "slideshow": {
     "slide_type": "fragment"
    }
   },
   "outputs": [
    {
     "data": {
      "text/html": [
       "<div>\n",
       "<style scoped>\n",
       "    .dataframe tbody tr th:only-of-type {\n",
       "        vertical-align: middle;\n",
       "    }\n",
       "\n",
       "    .dataframe tbody tr th {\n",
       "        vertical-align: top;\n",
       "    }\n",
       "\n",
       "    .dataframe thead th {\n",
       "        text-align: right;\n",
       "    }\n",
       "</style>\n",
       "<table border=\"1\" class=\"dataframe\">\n",
       "  <thead>\n",
       "    <tr style=\"text-align: right;\">\n",
       "      <th></th>\n",
       "      <th>Unnamed: 0</th>\n",
       "      <th>created_at</th>\n",
       "      <th>id</th>\n",
       "      <th>author_id</th>\n",
       "      <th>text</th>\n",
       "    </tr>\n",
       "  </thead>\n",
       "  <tbody>\n",
       "    <tr>\n",
       "      <th>0</th>\n",
       "      <td>0</td>\n",
       "      <td>2022-05-16T21:24:35.000Z</td>\n",
       "      <td>1526312680226799618</td>\n",
       "      <td>813286</td>\n",
       "      <td>It’s despicable, it’s dangerous — and it needs...</td>\n",
       "    </tr>\n",
       "    <tr>\n",
       "      <th>1</th>\n",
       "      <td>1</td>\n",
       "      <td>2022-05-16T21:24:34.000Z</td>\n",
       "      <td>1526312678951641088</td>\n",
       "      <td>813286</td>\n",
       "      <td>We need to repudiate in the strongest terms th...</td>\n",
       "    </tr>\n",
       "    <tr>\n",
       "      <th>2</th>\n",
       "      <td>2</td>\n",
       "      <td>2022-05-16T21:24:34.000Z</td>\n",
       "      <td>1526312677521428480</td>\n",
       "      <td>813286</td>\n",
       "      <td>This weekend’s shootings in Buffalo offer a tr...</td>\n",
       "    </tr>\n",
       "  </tbody>\n",
       "</table>\n",
       "</div>"
      ],
      "text/plain": [
       "   Unnamed: 0                created_at                   id  author_id  \\\n",
       "0           0  2022-05-16T21:24:35.000Z  1526312680226799618     813286   \n",
       "1           1  2022-05-16T21:24:34.000Z  1526312678951641088     813286   \n",
       "2           2  2022-05-16T21:24:34.000Z  1526312677521428480     813286   \n",
       "\n",
       "                                                text  \n",
       "0  It’s despicable, it’s dangerous — and it needs...  \n",
       "1  We need to repudiate in the strongest terms th...  \n",
       "2  This weekend’s shootings in Buffalo offer a tr...  "
      ]
     },
     "execution_count": 267,
     "metadata": {},
     "output_type": "execute_result"
    }
   ],
   "source": [
    "import pandas as pd\n",
    "\n",
    "# Import some Tweets from Barack Obama \n",
    "df = pd.read_csv(\"https://raw.githubusercontent.com/kirenz/twitter-tweepy/main/tweets-obama.csv\")\n",
    "df.head(3)"
   ]
  },
  {
   "cell_type": "code",
   "execution_count": 287,
   "metadata": {},
   "outputs": [
    {
     "name": "stdout",
     "output_type": "stream",
     "text": [
      "<class 'pandas.core.frame.DataFrame'>\n",
      "RangeIndex: 5 entries, 0 to 4\n",
      "Data columns (total 10 columns):\n",
      " #   Column             Non-Null Count  Dtype \n",
      "---  ------             --------------  ----- \n",
      " 0   Unnamed: 0         5 non-null      int64 \n",
      " 1   created_at         5 non-null      object\n",
      " 2   id                 5 non-null      int64 \n",
      " 3   author_id          5 non-null      int64 \n",
      " 4   text               5 non-null      object\n",
      " 5   text_token         5 non-null      object\n",
      " 6   text_string        5 non-null      object\n",
      " 7   text_string_fdist  5 non-null      object\n",
      " 8   text_string_lem    5 non-null      object\n",
      " 9   is_equal           5 non-null      bool  \n",
      "dtypes: bool(1), int64(3), object(6)\n",
      "memory usage: 493.0+ bytes\n"
     ]
    }
   ],
   "source": [
    "df.info()"
   ]
  },
  {
   "cell_type": "markdown",
   "metadata": {
    "slideshow": {
     "slide_type": "slide"
    }
   },
   "source": [
    "## Data transformation"
   ]
  },
  {
   "cell_type": "code",
   "execution_count": 268,
   "metadata": {
    "slideshow": {
     "slide_type": "fragment"
    }
   },
   "outputs": [
    {
     "data": {
      "text/html": [
       "<div>\n",
       "<style scoped>\n",
       "    .dataframe tbody tr th:only-of-type {\n",
       "        vertical-align: middle;\n",
       "    }\n",
       "\n",
       "    .dataframe tbody tr th {\n",
       "        vertical-align: top;\n",
       "    }\n",
       "\n",
       "    .dataframe thead th {\n",
       "        text-align: right;\n",
       "    }\n",
       "</style>\n",
       "<table border=\"1\" class=\"dataframe\">\n",
       "  <thead>\n",
       "    <tr style=\"text-align: right;\">\n",
       "      <th></th>\n",
       "      <th>Unnamed: 0</th>\n",
       "      <th>created_at</th>\n",
       "      <th>id</th>\n",
       "      <th>author_id</th>\n",
       "      <th>text</th>\n",
       "    </tr>\n",
       "  </thead>\n",
       "  <tbody>\n",
       "    <tr>\n",
       "      <th>0</th>\n",
       "      <td>0</td>\n",
       "      <td>2022-05-16T21:24:35.000Z</td>\n",
       "      <td>1526312680226799618</td>\n",
       "      <td>813286</td>\n",
       "      <td>it’s despicable, it’s dangerous — and it needs...</td>\n",
       "    </tr>\n",
       "    <tr>\n",
       "      <th>1</th>\n",
       "      <td>1</td>\n",
       "      <td>2022-05-16T21:24:34.000Z</td>\n",
       "      <td>1526312678951641088</td>\n",
       "      <td>813286</td>\n",
       "      <td>we need to repudiate in the strongest terms th...</td>\n",
       "    </tr>\n",
       "    <tr>\n",
       "      <th>2</th>\n",
       "      <td>2</td>\n",
       "      <td>2022-05-16T21:24:34.000Z</td>\n",
       "      <td>1526312677521428480</td>\n",
       "      <td>813286</td>\n",
       "      <td>this weekend’s shootings in buffalo offer a tr...</td>\n",
       "    </tr>\n",
       "  </tbody>\n",
       "</table>\n",
       "</div>"
      ],
      "text/plain": [
       "   Unnamed: 0                created_at                   id  author_id  \\\n",
       "0           0  2022-05-16T21:24:35.000Z  1526312680226799618     813286   \n",
       "1           1  2022-05-16T21:24:34.000Z  1526312678951641088     813286   \n",
       "2           2  2022-05-16T21:24:34.000Z  1526312677521428480     813286   \n",
       "\n",
       "                                                text  \n",
       "0  it’s despicable, it’s dangerous — and it needs...  \n",
       "1  we need to repudiate in the strongest terms th...  \n",
       "2  this weekend’s shootings in buffalo offer a tr...  "
      ]
     },
     "execution_count": 268,
     "metadata": {},
     "output_type": "execute_result"
    }
   ],
   "source": [
    "df['text'] = df['text'].astype(str).str.lower()\n",
    "df.head(3)"
   ]
  },
  {
   "cell_type": "markdown",
   "metadata": {
    "slideshow": {
     "slide_type": "slide"
    }
   },
   "source": [
    "## Tokenization\n",
    "\n",
    "- Install [NLTK](https://anaconda.org/anaconda/nltk): \n",
    "\n",
    "```bash\n",
    "conda install -c anaconda nltk\n",
    "```\n",
    "\n",
    "\n",
    "- We use NLTK's [RegexpTokenizer](https://www.nltk.org/_modules/nltk/tokenize/regexp.html) to perform [tokenization](https://en.wikipedia.org/wiki/Lexical_analysis#Tokenization) in combination with regular expressions. \n",
    "\n",
    "- To learn more about regular expressions (\"regexp\"), visit the following sites:"
   ]
  },
  {
   "cell_type": "markdown",
   "metadata": {
    "slideshow": {
     "slide_type": "slide"
    }
   },
   "source": [
    "\n",
    "- [regular expression basics](https://www.w3schools.com/python/python_regex.asp).\n",
    "- [interactive regular expressions tool](https://regex101.com/)\n",
    "\n",
    "- `\\w+` matches Unicode word characters with one or more occurrences; \n",
    "- this includes most characters that can be part of a word in any language, as well as numbers and the underscore."
   ]
  },
  {
   "cell_type": "code",
   "execution_count": 269,
   "metadata": {
    "slideshow": {
     "slide_type": "slide"
    }
   },
   "outputs": [
    {
     "data": {
      "text/html": [
       "<div>\n",
       "<style scoped>\n",
       "    .dataframe tbody tr th:only-of-type {\n",
       "        vertical-align: middle;\n",
       "    }\n",
       "\n",
       "    .dataframe tbody tr th {\n",
       "        vertical-align: top;\n",
       "    }\n",
       "\n",
       "    .dataframe thead th {\n",
       "        text-align: right;\n",
       "    }\n",
       "</style>\n",
       "<table border=\"1\" class=\"dataframe\">\n",
       "  <thead>\n",
       "    <tr style=\"text-align: right;\">\n",
       "      <th></th>\n",
       "      <th>Unnamed: 0</th>\n",
       "      <th>created_at</th>\n",
       "      <th>id</th>\n",
       "      <th>author_id</th>\n",
       "      <th>text</th>\n",
       "      <th>text_token</th>\n",
       "    </tr>\n",
       "  </thead>\n",
       "  <tbody>\n",
       "    <tr>\n",
       "      <th>0</th>\n",
       "      <td>0</td>\n",
       "      <td>2022-05-16T21:24:35.000Z</td>\n",
       "      <td>1526312680226799618</td>\n",
       "      <td>813286</td>\n",
       "      <td>it’s despicable, it’s dangerous — and it needs...</td>\n",
       "      <td>[it, s, despicable, it, s, dangerous, and, it,...</td>\n",
       "    </tr>\n",
       "    <tr>\n",
       "      <th>1</th>\n",
       "      <td>1</td>\n",
       "      <td>2022-05-16T21:24:34.000Z</td>\n",
       "      <td>1526312678951641088</td>\n",
       "      <td>813286</td>\n",
       "      <td>we need to repudiate in the strongest terms th...</td>\n",
       "      <td>[we, need, to, repudiate, in, the, strongest, ...</td>\n",
       "    </tr>\n",
       "    <tr>\n",
       "      <th>2</th>\n",
       "      <td>2</td>\n",
       "      <td>2022-05-16T21:24:34.000Z</td>\n",
       "      <td>1526312677521428480</td>\n",
       "      <td>813286</td>\n",
       "      <td>this weekend’s shootings in buffalo offer a tr...</td>\n",
       "      <td>[this, weekend, s, shootings, in, buffalo, off...</td>\n",
       "    </tr>\n",
       "  </tbody>\n",
       "</table>\n",
       "</div>"
      ],
      "text/plain": [
       "   Unnamed: 0                created_at                   id  author_id  \\\n",
       "0           0  2022-05-16T21:24:35.000Z  1526312680226799618     813286   \n",
       "1           1  2022-05-16T21:24:34.000Z  1526312678951641088     813286   \n",
       "2           2  2022-05-16T21:24:34.000Z  1526312677521428480     813286   \n",
       "\n",
       "                                                text  \\\n",
       "0  it’s despicable, it’s dangerous — and it needs...   \n",
       "1  we need to repudiate in the strongest terms th...   \n",
       "2  this weekend’s shootings in buffalo offer a tr...   \n",
       "\n",
       "                                          text_token  \n",
       "0  [it, s, despicable, it, s, dangerous, and, it,...  \n",
       "1  [we, need, to, repudiate, in, the, strongest, ...  \n",
       "2  [this, weekend, s, shootings, in, buffalo, off...  "
      ]
     },
     "execution_count": 269,
     "metadata": {},
     "output_type": "execute_result"
    }
   ],
   "source": [
    "from nltk.tokenize import RegexpTokenizer\n",
    "\n",
    "regexp = RegexpTokenizer('\\w+')\n",
    "\n",
    "df['text_token']=df['text'].apply(regexp.tokenize)\n",
    "df.head(3)\n"
   ]
  },
  {
   "cell_type": "markdown",
   "metadata": {
    "slideshow": {
     "slide_type": "slide"
    }
   },
   "source": [
    "## Stopwords\n",
    "\n",
    "- Stop words are words in a stop list which are dropped before analysing natural language data since they don't contain valuable information (like \"will\", \"and\", \"or\", \"has\", ...)."
   ]
  },
  {
   "cell_type": "code",
   "execution_count": 270,
   "metadata": {
    "slideshow": {
     "slide_type": "fragment"
    }
   },
   "outputs": [
    {
     "name": "stderr",
     "output_type": "stream",
     "text": [
      "[nltk_data] Downloading package stopwords to\n",
      "[nltk_data]     /Users/jankirenz/nltk_data...\n",
      "[nltk_data]   Package stopwords is already up-to-date!\n"
     ]
    },
    {
     "data": {
      "text/plain": [
       "True"
      ]
     },
     "execution_count": 270,
     "metadata": {},
     "output_type": "execute_result"
    }
   ],
   "source": [
    "import nltk\n",
    "\n",
    "nltk.download('stopwords')"
   ]
  },
  {
   "cell_type": "code",
   "execution_count": 271,
   "metadata": {
    "slideshow": {
     "slide_type": "slide"
    }
   },
   "outputs": [],
   "source": [
    "from nltk.corpus import stopwords\n",
    "\n",
    "# Make a list of english stopwords\n",
    "stopwords = nltk.corpus.stopwords.words(\"english\")\n",
    "\n",
    "# Extend the list with your own custom stopwords\n",
    "my_stopwords = ['https']\n",
    "stopwords.extend(my_stopwords)"
   ]
  },
  {
   "cell_type": "markdown",
   "metadata": {
    "slideshow": {
     "slide_type": "slide"
    }
   },
   "source": [
    "- We use a [lambda function](https://www.w3schools.com/python/python_lambda.asp) to remove the stopwords:"
   ]
  },
  {
   "cell_type": "code",
   "execution_count": 272,
   "metadata": {
    "slideshow": {
     "slide_type": "fragment"
    }
   },
   "outputs": [
    {
     "data": {
      "text/html": [
       "<div>\n",
       "<style scoped>\n",
       "    .dataframe tbody tr th:only-of-type {\n",
       "        vertical-align: middle;\n",
       "    }\n",
       "\n",
       "    .dataframe tbody tr th {\n",
       "        vertical-align: top;\n",
       "    }\n",
       "\n",
       "    .dataframe thead th {\n",
       "        text-align: right;\n",
       "    }\n",
       "</style>\n",
       "<table border=\"1\" class=\"dataframe\">\n",
       "  <thead>\n",
       "    <tr style=\"text-align: right;\">\n",
       "      <th></th>\n",
       "      <th>Unnamed: 0</th>\n",
       "      <th>created_at</th>\n",
       "      <th>id</th>\n",
       "      <th>author_id</th>\n",
       "      <th>text</th>\n",
       "      <th>text_token</th>\n",
       "    </tr>\n",
       "  </thead>\n",
       "  <tbody>\n",
       "    <tr>\n",
       "      <th>0</th>\n",
       "      <td>0</td>\n",
       "      <td>2022-05-16T21:24:35.000Z</td>\n",
       "      <td>1526312680226799618</td>\n",
       "      <td>813286</td>\n",
       "      <td>it’s despicable, it’s dangerous — and it needs...</td>\n",
       "      <td>[despicable, dangerous, needs, stop, co, 0ch2z...</td>\n",
       "    </tr>\n",
       "    <tr>\n",
       "      <th>1</th>\n",
       "      <td>1</td>\n",
       "      <td>2022-05-16T21:24:34.000Z</td>\n",
       "      <td>1526312678951641088</td>\n",
       "      <td>813286</td>\n",
       "      <td>we need to repudiate in the strongest terms th...</td>\n",
       "      <td>[need, repudiate, strongest, terms, politician...</td>\n",
       "    </tr>\n",
       "    <tr>\n",
       "      <th>2</th>\n",
       "      <td>2</td>\n",
       "      <td>2022-05-16T21:24:34.000Z</td>\n",
       "      <td>1526312677521428480</td>\n",
       "      <td>813286</td>\n",
       "      <td>this weekend’s shootings in buffalo offer a tr...</td>\n",
       "      <td>[weekend, shootings, buffalo, offer, tragic, r...</td>\n",
       "    </tr>\n",
       "  </tbody>\n",
       "</table>\n",
       "</div>"
      ],
      "text/plain": [
       "   Unnamed: 0                created_at                   id  author_id  \\\n",
       "0           0  2022-05-16T21:24:35.000Z  1526312680226799618     813286   \n",
       "1           1  2022-05-16T21:24:34.000Z  1526312678951641088     813286   \n",
       "2           2  2022-05-16T21:24:34.000Z  1526312677521428480     813286   \n",
       "\n",
       "                                                text  \\\n",
       "0  it’s despicable, it’s dangerous — and it needs...   \n",
       "1  we need to repudiate in the strongest terms th...   \n",
       "2  this weekend’s shootings in buffalo offer a tr...   \n",
       "\n",
       "                                          text_token  \n",
       "0  [despicable, dangerous, needs, stop, co, 0ch2z...  \n",
       "1  [need, repudiate, strongest, terms, politician...  \n",
       "2  [weekend, shootings, buffalo, offer, tragic, r...  "
      ]
     },
     "execution_count": 272,
     "metadata": {},
     "output_type": "execute_result"
    }
   ],
   "source": [
    "# Remove stopwords\n",
    "df['text_token'] = df['text_token'].apply(lambda x: [item for item in x if item not in stopwords])\n",
    "df.head(3)"
   ]
  },
  {
   "cell_type": "markdown",
   "metadata": {
    "slideshow": {
     "slide_type": "slide"
    }
   },
   "source": [
    "## Remove infrequent words"
   ]
  },
  {
   "cell_type": "markdown",
   "metadata": {
    "slideshow": {
     "slide_type": "fragment"
    }
   },
   "source": [
    "- We first change the format of `text_token` to strings and keep only words which are longer than 2 letters"
   ]
  },
  {
   "cell_type": "code",
   "execution_count": 273,
   "metadata": {},
   "outputs": [],
   "source": [
    "df['text_string'] = df['text_token'].apply(lambda x: ' '.join([item for item in x if len(item)>2]))"
   ]
  },
  {
   "cell_type": "code",
   "execution_count": 274,
   "metadata": {},
   "outputs": [
    {
     "data": {
      "text/html": [
       "<div>\n",
       "<style scoped>\n",
       "    .dataframe tbody tr th:only-of-type {\n",
       "        vertical-align: middle;\n",
       "    }\n",
       "\n",
       "    .dataframe tbody tr th {\n",
       "        vertical-align: top;\n",
       "    }\n",
       "\n",
       "    .dataframe thead th {\n",
       "        text-align: right;\n",
       "    }\n",
       "</style>\n",
       "<table border=\"1\" class=\"dataframe\">\n",
       "  <thead>\n",
       "    <tr style=\"text-align: right;\">\n",
       "      <th></th>\n",
       "      <th>text</th>\n",
       "      <th>text_token</th>\n",
       "      <th>text_string</th>\n",
       "    </tr>\n",
       "  </thead>\n",
       "  <tbody>\n",
       "    <tr>\n",
       "      <th>0</th>\n",
       "      <td>it’s despicable, it’s dangerous — and it needs...</td>\n",
       "      <td>[despicable, dangerous, needs, stop, co, 0ch2z...</td>\n",
       "      <td>despicable dangerous needs stop 0ch2zosmhb</td>\n",
       "    </tr>\n",
       "    <tr>\n",
       "      <th>1</th>\n",
       "      <td>we need to repudiate in the strongest terms th...</td>\n",
       "      <td>[need, repudiate, strongest, terms, politician...</td>\n",
       "      <td>need repudiate strongest terms politicians med...</td>\n",
       "    </tr>\n",
       "    <tr>\n",
       "      <th>2</th>\n",
       "      <td>this weekend’s shootings in buffalo offer a tr...</td>\n",
       "      <td>[weekend, shootings, buffalo, offer, tragic, r...</td>\n",
       "      <td>weekend shootings buffalo offer tragic reminde...</td>\n",
       "    </tr>\n",
       "    <tr>\n",
       "      <th>3</th>\n",
       "      <td>i’m proud to announce the voyager scholarship ...</td>\n",
       "      <td>[proud, announce, voyager, scholarship, friend...</td>\n",
       "      <td>proud announce voyager scholarship friend bche...</td>\n",
       "    </tr>\n",
       "    <tr>\n",
       "      <th>4</th>\n",
       "      <td>across the country, americans are standing up ...</td>\n",
       "      <td>[across, country, americans, standing, abortio...</td>\n",
       "      <td>across country americans standing abortion rig...</td>\n",
       "    </tr>\n",
       "  </tbody>\n",
       "</table>\n",
       "</div>"
      ],
      "text/plain": [
       "                                                text  \\\n",
       "0  it’s despicable, it’s dangerous — and it needs...   \n",
       "1  we need to repudiate in the strongest terms th...   \n",
       "2  this weekend’s shootings in buffalo offer a tr...   \n",
       "3  i’m proud to announce the voyager scholarship ...   \n",
       "4  across the country, americans are standing up ...   \n",
       "\n",
       "                                          text_token  \\\n",
       "0  [despicable, dangerous, needs, stop, co, 0ch2z...   \n",
       "1  [need, repudiate, strongest, terms, politician...   \n",
       "2  [weekend, shootings, buffalo, offer, tragic, r...   \n",
       "3  [proud, announce, voyager, scholarship, friend...   \n",
       "4  [across, country, americans, standing, abortio...   \n",
       "\n",
       "                                         text_string  \n",
       "0         despicable dangerous needs stop 0ch2zosmhb  \n",
       "1  need repudiate strongest terms politicians med...  \n",
       "2  weekend shootings buffalo offer tragic reminde...  \n",
       "3  proud announce voyager scholarship friend bche...  \n",
       "4  across country americans standing abortion rig...  "
      ]
     },
     "execution_count": 274,
     "metadata": {},
     "output_type": "execute_result"
    }
   ],
   "source": [
    "df[['text', 'text_token', 'text_string']].head()"
   ]
  },
  {
   "cell_type": "markdown",
   "metadata": {},
   "source": [
    "- Create a list of all words"
   ]
  },
  {
   "cell_type": "code",
   "execution_count": 275,
   "metadata": {},
   "outputs": [],
   "source": [
    "all_words = ' '.join([word for word in df['text_string']])"
   ]
  },
  {
   "cell_type": "markdown",
   "metadata": {},
   "source": [
    "- Tokenize `all_words`"
   ]
  },
  {
   "cell_type": "code",
   "execution_count": 276,
   "metadata": {},
   "outputs": [],
   "source": [
    "tokenized_words = nltk.tokenize.word_tokenize(all_words)"
   ]
  },
  {
   "cell_type": "markdown",
   "metadata": {},
   "source": [
    "- Create a frequency distribution which records the number of times each word has occurred:"
   ]
  },
  {
   "cell_type": "code",
   "execution_count": 277,
   "metadata": {},
   "outputs": [
    {
     "data": {
      "text/plain": [
       "FreqDist({'need': 2, 'americans': 2, 'proud': 2, 'despicable': 1, 'dangerous': 1, 'needs': 1, 'stop': 1, '0ch2zosmhb': 1, 'repudiate': 1, 'strongest': 1, ...})"
      ]
     },
     "execution_count": 277,
     "metadata": {},
     "output_type": "execute_result"
    }
   ],
   "source": [
    "fdist = FreqDist(tokenized_words)\n",
    "fdist"
   ]
  },
  {
   "cell_type": "markdown",
   "metadata": {},
   "source": [
    "- Now we can use our `fdist` dictionary to drop words which occur less than a certain amount of times (usually we use a value of 3 or 4).\n",
    "- Since our dataset is really small, we don't filter out any words and set the value to greater or equal to 1 (otherwise there are not many words left in this particular dataset) "
   ]
  },
  {
   "cell_type": "code",
   "execution_count": 278,
   "metadata": {},
   "outputs": [],
   "source": [
    "df['text_string_fdist'] = df['text_token'].apply(lambda x: ' '.join([item for item in x if fdist[item] >= 1 ]))"
   ]
  },
  {
   "cell_type": "code",
   "execution_count": 279,
   "metadata": {},
   "outputs": [
    {
     "data": {
      "text/html": [
       "<div>\n",
       "<style scoped>\n",
       "    .dataframe tbody tr th:only-of-type {\n",
       "        vertical-align: middle;\n",
       "    }\n",
       "\n",
       "    .dataframe tbody tr th {\n",
       "        vertical-align: top;\n",
       "    }\n",
       "\n",
       "    .dataframe thead th {\n",
       "        text-align: right;\n",
       "    }\n",
       "</style>\n",
       "<table border=\"1\" class=\"dataframe\">\n",
       "  <thead>\n",
       "    <tr style=\"text-align: right;\">\n",
       "      <th></th>\n",
       "      <th>text</th>\n",
       "      <th>text_token</th>\n",
       "      <th>text_string</th>\n",
       "      <th>text_string_fdist</th>\n",
       "    </tr>\n",
       "  </thead>\n",
       "  <tbody>\n",
       "    <tr>\n",
       "      <th>0</th>\n",
       "      <td>it’s despicable, it’s dangerous — and it needs...</td>\n",
       "      <td>[despicable, dangerous, needs, stop, co, 0ch2z...</td>\n",
       "      <td>despicable dangerous needs stop 0ch2zosmhb</td>\n",
       "      <td>despicable dangerous needs stop 0ch2zosmhb</td>\n",
       "    </tr>\n",
       "    <tr>\n",
       "      <th>1</th>\n",
       "      <td>we need to repudiate in the strongest terms th...</td>\n",
       "      <td>[need, repudiate, strongest, terms, politician...</td>\n",
       "      <td>need repudiate strongest terms politicians med...</td>\n",
       "      <td>need repudiate strongest terms politicians med...</td>\n",
       "    </tr>\n",
       "    <tr>\n",
       "      <th>2</th>\n",
       "      <td>this weekend’s shootings in buffalo offer a tr...</td>\n",
       "      <td>[weekend, shootings, buffalo, offer, tragic, r...</td>\n",
       "      <td>weekend shootings buffalo offer tragic reminde...</td>\n",
       "      <td>weekend shootings buffalo offer tragic reminde...</td>\n",
       "    </tr>\n",
       "    <tr>\n",
       "      <th>3</th>\n",
       "      <td>i’m proud to announce the voyager scholarship ...</td>\n",
       "      <td>[proud, announce, voyager, scholarship, friend...</td>\n",
       "      <td>proud announce voyager scholarship friend bche...</td>\n",
       "      <td>proud announce voyager scholarship friend bche...</td>\n",
       "    </tr>\n",
       "    <tr>\n",
       "      <th>4</th>\n",
       "      <td>across the country, americans are standing up ...</td>\n",
       "      <td>[across, country, americans, standing, abortio...</td>\n",
       "      <td>across country americans standing abortion rig...</td>\n",
       "      <td>across country americans standing abortion rig...</td>\n",
       "    </tr>\n",
       "  </tbody>\n",
       "</table>\n",
       "</div>"
      ],
      "text/plain": [
       "                                                text  \\\n",
       "0  it’s despicable, it’s dangerous — and it needs...   \n",
       "1  we need to repudiate in the strongest terms th...   \n",
       "2  this weekend’s shootings in buffalo offer a tr...   \n",
       "3  i’m proud to announce the voyager scholarship ...   \n",
       "4  across the country, americans are standing up ...   \n",
       "\n",
       "                                          text_token  \\\n",
       "0  [despicable, dangerous, needs, stop, co, 0ch2z...   \n",
       "1  [need, repudiate, strongest, terms, politician...   \n",
       "2  [weekend, shootings, buffalo, offer, tragic, r...   \n",
       "3  [proud, announce, voyager, scholarship, friend...   \n",
       "4  [across, country, americans, standing, abortio...   \n",
       "\n",
       "                                         text_string  \\\n",
       "0         despicable dangerous needs stop 0ch2zosmhb   \n",
       "1  need repudiate strongest terms politicians med...   \n",
       "2  weekend shootings buffalo offer tragic reminde...   \n",
       "3  proud announce voyager scholarship friend bche...   \n",
       "4  across country americans standing abortion rig...   \n",
       "\n",
       "                                   text_string_fdist  \n",
       "0         despicable dangerous needs stop 0ch2zosmhb  \n",
       "1  need repudiate strongest terms politicians med...  \n",
       "2  weekend shootings buffalo offer tragic reminde...  \n",
       "3  proud announce voyager scholarship friend bche...  \n",
       "4  across country americans standing abortion rig...  "
      ]
     },
     "execution_count": 279,
     "metadata": {},
     "output_type": "execute_result"
    }
   ],
   "source": [
    "df[['text', 'text_token', 'text_string', 'text_string_fdist']].head()"
   ]
  },
  {
   "cell_type": "markdown",
   "metadata": {
    "slideshow": {
     "slide_type": "slide"
    }
   },
   "source": [
    "## Lemmatization\n",
    "\n",
    "- Next, we perfom [lemmatization](https://en.wikipedia.org/wiki/Lemmatisation)."
   ]
  },
  {
   "cell_type": "code",
   "execution_count": 280,
   "metadata": {
    "slideshow": {
     "slide_type": "fragment"
    }
   },
   "outputs": [
    {
     "name": "stderr",
     "output_type": "stream",
     "text": [
      "[nltk_data] Downloading package wordnet to\n",
      "[nltk_data]     /Users/jankirenz/nltk_data...\n",
      "[nltk_data]   Package wordnet is already up-to-date!\n",
      "[nltk_data] Downloading package omw-1.4 to\n",
      "[nltk_data]     /Users/jankirenz/nltk_data...\n",
      "[nltk_data]   Package omw-1.4 is already up-to-date!\n"
     ]
    },
    {
     "data": {
      "text/plain": [
       "True"
      ]
     },
     "execution_count": 280,
     "metadata": {},
     "output_type": "execute_result"
    }
   ],
   "source": [
    "nltk.download('wordnet')\n",
    "nltk.download('omw-1.4')"
   ]
  },
  {
   "cell_type": "code",
   "execution_count": 281,
   "metadata": {
    "slideshow": {
     "slide_type": "fragment"
    }
   },
   "outputs": [],
   "source": [
    "from nltk.stem import WordNetLemmatizer\n",
    "\n",
    "wordnet_lem = WordNetLemmatizer()\n",
    "\n",
    "df['text_string_lem'] = df['text_string_fdist'].apply(wordnet_lem.lemmatize)"
   ]
  },
  {
   "cell_type": "markdown",
   "metadata": {},
   "source": [
    "- Note that in some datasets, there are no words to lemmatize. We can check this as follows:"
   ]
  },
  {
   "cell_type": "code",
   "execution_count": 282,
   "metadata": {},
   "outputs": [],
   "source": [
    "# check if the columns are equal\n",
    "df['is_equal']= (df['text_string_fdist']==df['text_string_lem'])"
   ]
  },
  {
   "cell_type": "code",
   "execution_count": 283,
   "metadata": {},
   "outputs": [
    {
     "data": {
      "text/plain": [
       "True    5\n",
       "Name: is_equal, dtype: int64"
      ]
     },
     "execution_count": 283,
     "metadata": {},
     "output_type": "execute_result"
    }
   ],
   "source": [
    "# show level count\n",
    "df.is_equal.value_counts()"
   ]
  },
  {
   "cell_type": "code",
   "execution_count": 286,
   "metadata": {},
   "outputs": [
    {
     "data": {
      "text/html": [
       "<div>\n",
       "<style scoped>\n",
       "    .dataframe tbody tr th:only-of-type {\n",
       "        vertical-align: middle;\n",
       "    }\n",
       "\n",
       "    .dataframe tbody tr th {\n",
       "        vertical-align: top;\n",
       "    }\n",
       "\n",
       "    .dataframe thead th {\n",
       "        text-align: right;\n",
       "    }\n",
       "</style>\n",
       "<table border=\"1\" class=\"dataframe\">\n",
       "  <thead>\n",
       "    <tr style=\"text-align: right;\">\n",
       "      <th></th>\n",
       "      <th>Unnamed: 0</th>\n",
       "      <th>created_at</th>\n",
       "      <th>id</th>\n",
       "      <th>author_id</th>\n",
       "      <th>text</th>\n",
       "      <th>text_token</th>\n",
       "      <th>text_string</th>\n",
       "      <th>text_string_fdist</th>\n",
       "      <th>text_string_lem</th>\n",
       "      <th>is_equal</th>\n",
       "    </tr>\n",
       "  </thead>\n",
       "  <tbody>\n",
       "    <tr>\n",
       "      <th>0</th>\n",
       "      <td>0</td>\n",
       "      <td>2022-05-16T21:24:35.000Z</td>\n",
       "      <td>1526312680226799618</td>\n",
       "      <td>813286</td>\n",
       "      <td>it’s despicable, it’s dangerous — and it needs...</td>\n",
       "      <td>[despicable, dangerous, needs, stop, co, 0ch2z...</td>\n",
       "      <td>despicable dangerous needs stop 0ch2zosmhb</td>\n",
       "      <td>despicable dangerous needs stop 0ch2zosmhb</td>\n",
       "      <td>despicable dangerous needs stop 0ch2zosmhb</td>\n",
       "      <td>True</td>\n",
       "    </tr>\n",
       "    <tr>\n",
       "      <th>1</th>\n",
       "      <td>1</td>\n",
       "      <td>2022-05-16T21:24:34.000Z</td>\n",
       "      <td>1526312678951641088</td>\n",
       "      <td>813286</td>\n",
       "      <td>we need to repudiate in the strongest terms th...</td>\n",
       "      <td>[need, repudiate, strongest, terms, politician...</td>\n",
       "      <td>need repudiate strongest terms politicians med...</td>\n",
       "      <td>need repudiate strongest terms politicians med...</td>\n",
       "      <td>need repudiate strongest terms politicians med...</td>\n",
       "      <td>True</td>\n",
       "    </tr>\n",
       "    <tr>\n",
       "      <th>2</th>\n",
       "      <td>2</td>\n",
       "      <td>2022-05-16T21:24:34.000Z</td>\n",
       "      <td>1526312677521428480</td>\n",
       "      <td>813286</td>\n",
       "      <td>this weekend’s shootings in buffalo offer a tr...</td>\n",
       "      <td>[weekend, shootings, buffalo, offer, tragic, r...</td>\n",
       "      <td>weekend shootings buffalo offer tragic reminde...</td>\n",
       "      <td>weekend shootings buffalo offer tragic reminde...</td>\n",
       "      <td>weekend shootings buffalo offer tragic reminde...</td>\n",
       "      <td>True</td>\n",
       "    </tr>\n",
       "    <tr>\n",
       "      <th>3</th>\n",
       "      <td>3</td>\n",
       "      <td>2022-05-16T13:16:16.000Z</td>\n",
       "      <td>1526189794665107457</td>\n",
       "      <td>813286</td>\n",
       "      <td>i’m proud to announce the voyager scholarship ...</td>\n",
       "      <td>[proud, announce, voyager, scholarship, friend...</td>\n",
       "      <td>proud announce voyager scholarship friend bche...</td>\n",
       "      <td>proud announce voyager scholarship friend bche...</td>\n",
       "      <td>proud announce voyager scholarship friend bche...</td>\n",
       "      <td>True</td>\n",
       "    </tr>\n",
       "    <tr>\n",
       "      <th>4</th>\n",
       "      <td>4</td>\n",
       "      <td>2022-05-14T15:03:07.000Z</td>\n",
       "      <td>1525491905139773442</td>\n",
       "      <td>813286</td>\n",
       "      <td>across the country, americans are standing up ...</td>\n",
       "      <td>[across, country, americans, standing, abortio...</td>\n",
       "      <td>across country americans standing abortion rig...</td>\n",
       "      <td>across country americans standing abortion rig...</td>\n",
       "      <td>across country americans standing abortion rig...</td>\n",
       "      <td>True</td>\n",
       "    </tr>\n",
       "  </tbody>\n",
       "</table>\n",
       "</div>"
      ],
      "text/plain": [
       "   Unnamed: 0                created_at                   id  author_id  \\\n",
       "0           0  2022-05-16T21:24:35.000Z  1526312680226799618     813286   \n",
       "1           1  2022-05-16T21:24:34.000Z  1526312678951641088     813286   \n",
       "2           2  2022-05-16T21:24:34.000Z  1526312677521428480     813286   \n",
       "3           3  2022-05-16T13:16:16.000Z  1526189794665107457     813286   \n",
       "4           4  2022-05-14T15:03:07.000Z  1525491905139773442     813286   \n",
       "\n",
       "                                                text  \\\n",
       "0  it’s despicable, it’s dangerous — and it needs...   \n",
       "1  we need to repudiate in the strongest terms th...   \n",
       "2  this weekend’s shootings in buffalo offer a tr...   \n",
       "3  i’m proud to announce the voyager scholarship ...   \n",
       "4  across the country, americans are standing up ...   \n",
       "\n",
       "                                          text_token  \\\n",
       "0  [despicable, dangerous, needs, stop, co, 0ch2z...   \n",
       "1  [need, repudiate, strongest, terms, politician...   \n",
       "2  [weekend, shootings, buffalo, offer, tragic, r...   \n",
       "3  [proud, announce, voyager, scholarship, friend...   \n",
       "4  [across, country, americans, standing, abortio...   \n",
       "\n",
       "                                         text_string  \\\n",
       "0         despicable dangerous needs stop 0ch2zosmhb   \n",
       "1  need repudiate strongest terms politicians med...   \n",
       "2  weekend shootings buffalo offer tragic reminde...   \n",
       "3  proud announce voyager scholarship friend bche...   \n",
       "4  across country americans standing abortion rig...   \n",
       "\n",
       "                                   text_string_fdist  \\\n",
       "0         despicable dangerous needs stop 0ch2zosmhb   \n",
       "1  need repudiate strongest terms politicians med...   \n",
       "2  weekend shootings buffalo offer tragic reminde...   \n",
       "3  proud announce voyager scholarship friend bche...   \n",
       "4  across country americans standing abortion rig...   \n",
       "\n",
       "                                     text_string_lem  is_equal  \n",
       "0         despicable dangerous needs stop 0ch2zosmhb      True  \n",
       "1  need repudiate strongest terms politicians med...      True  \n",
       "2  weekend shootings buffalo offer tragic reminde...      True  \n",
       "3  proud announce voyager scholarship friend bche...      True  \n",
       "4  across country americans standing abortion rig...      True  "
      ]
     },
     "execution_count": 286,
     "metadata": {},
     "output_type": "execute_result"
    }
   ],
   "source": [
    "df"
   ]
  },
  {
   "cell_type": "markdown",
   "metadata": {
    "slideshow": {
     "slide_type": "slide"
    }
   },
   "source": [
    "## Word cloud\n",
    "\n",
    "- Install [wordcloud](https://amueller.github.io/word_cloud/):\n",
    "\n",
    "```bash\n",
    "conda install -c conda-forge wordcloud\n",
    "```\n",
    "\n",
    "- [Word cloud example gallery](https://amueller.github.io/word_cloud/auto_examples/index.html#example-gallery)"
   ]
  },
  {
   "cell_type": "code",
   "execution_count": 284,
   "metadata": {
    "slideshow": {
     "slide_type": "fragment"
    }
   },
   "outputs": [],
   "source": [
    "all_words_lem = ' '.join([word for word in df['text_string_lem']])"
   ]
  },
  {
   "cell_type": "code",
   "execution_count": 285,
   "metadata": {
    "slideshow": {
     "slide_type": "slide"
    }
   },
   "outputs": [
    {
     "data": {
      "image/png": "[encoded data removed]",
      "text/plain": [
       "<Figure size 720x504 with 1 Axes>"
      ]
     },
     "metadata": {
      "needs_background": "light"
     },
     "output_type": "display_data"
    }
   ],
   "source": [
    "%matplotlib inline\n",
    "import matplotlib.pyplot as plt\n",
    "from wordcloud import WordCloud\n",
    "\n",
    "wordcloud = WordCloud(width=600, \n",
    "                     height=400, \n",
    "                     random_state=2, \n",
    "                     max_font_size=100).generate(all_words_lem)\n",
    "\n",
    "plt.figure(figsize=(10, 7))\n",
    "plt.imshow(wordcloud, interpolation='bilinear')\n",
    "plt.axis('off');"
   ]
  },
  {
   "cell_type": "markdown",
   "metadata": {
    "slideshow": {
     "slide_type": "slide"
    }
   },
   "source": [
    "- Different style:"
   ]
  },
  {
   "cell_type": "code",
   "execution_count": 288,
   "metadata": {
    "slideshow": {
     "slide_type": "fragment"
    }
   },
   "outputs": [
    {
     "data": {
      "image/png": "[encoded data removed]",
      "text/plain": [
       "<Figure size 432x288 with 1 Axes>"
      ]
     },
     "metadata": {
      "needs_background": "light"
     },
     "output_type": "display_data"
    }
   ],
   "source": [
    "import numpy as np\n",
    "\n",
    "x, y = np.ogrid[:300, :300]\n",
    "mask = (x - 150) ** 2 + (y - 150) ** 2 > 130 ** 2\n",
    "mask = 255 * mask.astype(int)\n",
    "\n",
    "wc = WordCloud(background_color=\"white\", repeat=True, mask=mask)\n",
    "wc.generate(all_words_lem)\n",
    "\n",
    "plt.axis(\"off\")\n",
    "plt.imshow(wc, interpolation=\"bilinear\");"
   ]
  },
  {
   "cell_type": "markdown",
   "metadata": {
    "slideshow": {
     "slide_type": "slide"
    }
   },
   "source": [
    "## Frequency distributions"
   ]
  },
  {
   "cell_type": "code",
   "execution_count": 289,
   "metadata": {
    "slideshow": {
     "slide_type": "fragment"
    }
   },
   "outputs": [
    {
     "name": "stderr",
     "output_type": "stream",
     "text": [
      "[nltk_data] Downloading package punkt to /Users/jankirenz/nltk_data...\n",
      "[nltk_data]   Package punkt is already up-to-date!\n"
     ]
    },
    {
     "data": {
      "text/plain": [
       "True"
      ]
     },
     "execution_count": 289,
     "metadata": {},
     "output_type": "execute_result"
    }
   ],
   "source": [
    "nltk.download('punkt')"
   ]
  },
  {
   "cell_type": "code",
   "execution_count": 290,
   "metadata": {
    "slideshow": {
     "slide_type": "fragment"
    }
   },
   "outputs": [],
   "source": [
    "from nltk.tokenize import word_tokenize\n",
    "from nltk.probability import FreqDist\n",
    "\n",
    "words = nltk.word_tokenize(all_words_lem)\n",
    "fd = FreqDist(words)"
   ]
  },
  {
   "cell_type": "markdown",
   "metadata": {
    "slideshow": {
     "slide_type": "slide"
    }
   },
   "source": [
    "### Most common words"
   ]
  },
  {
   "cell_type": "code",
   "execution_count": 291,
   "metadata": {
    "slideshow": {
     "slide_type": "fragment"
    }
   },
   "outputs": [
    {
     "data": {
      "text/plain": [
       "[('need', 2), ('americans', 2), ('proud', 2)]"
      ]
     },
     "execution_count": 291,
     "metadata": {},
     "output_type": "execute_result"
    }
   ],
   "source": [
    "fd.most_common(3)"
   ]
  },
  {
   "cell_type": "code",
   "execution_count": 292,
   "metadata": {
    "slideshow": {
     "slide_type": "fragment"
    }
   },
   "outputs": [
    {
     "name": "stdout",
     "output_type": "stream",
     "text": [
      "     need americans     proud \n",
      "        2         2         2 \n"
     ]
    }
   ],
   "source": [
    "fd.tabulate(3)"
   ]
  },
  {
   "cell_type": "markdown",
   "metadata": {
    "slideshow": {
     "slide_type": "slide"
    }
   },
   "source": [
    "### Plot common words"
   ]
  },
  {
   "cell_type": "code",
   "execution_count": 293,
   "metadata": {
    "slideshow": {
     "slide_type": "fragment"
    }
   },
   "outputs": [],
   "source": [
    "# Obtain top 10 words\n",
    "top_10 = fd.most_common(10)\n",
    "\n",
    "# Create pandas series to make plotting easier\n",
    "fdist = pd.Series(dict(top_10))"
   ]
  },
  {
   "cell_type": "code",
   "execution_count": 294,
   "metadata": {
    "slideshow": {
     "slide_type": "fragment"
    }
   },
   "outputs": [
    {
     "data": {
      "image/png": "[encoded data removed]",
      "text/plain": [
       "<Figure size 432x288 with 1 Axes>"
      ]
     },
     "metadata": {},
     "output_type": "display_data"
    }
   ],
   "source": [
    "import seaborn as sns\n",
    "sns.set_theme(style=\"ticks\")\n",
    "\n",
    "sns.barplot(y=fdist.index, x=fdist.values, color='blue');"
   ]
  },
  {
   "cell_type": "code",
   "execution_count": 295,
   "metadata": {
    "slideshow": {
     "slide_type": "slide"
    }
   },
   "outputs": [
    {
     "data": {
      "application/vnd.plotly.v1+json": {
       "config": {
        "plotlyServerURL": "https://plot.ly"
       },
       "data": [
        {
         "alignmentgroup": "True",
         "hovertemplate": "x=%{x}<br>y=%{y}<extra></extra>",
         "legendgroup": "",
         "marker": {
          "color": "#636efa",
          "pattern": {
           "shape": ""
          }
         },
         "name": "",
         "offsetgroup": "",
         "orientation": "h",
         "showlegend": false,
         "textposition": "auto",
         "type": "bar",
         "x": [
          2,
          2,
          2,
          1,
          1,
          1,
          1,
          1,
          1,
          1
         ],
         "xaxis": "x",
         "y": [
          "need",
          "americans",
          "proud",
          "despicable",
          "dangerous",
          "needs",
          "stop",
          "0ch2zosmhb",
          "repudiate",
          "strongest"
         ],
         "yaxis": "y"
        }
       ],
       "layout": {
        "barmode": "stack",
        "legend": {
         "tracegroupgap": 0
        },
        "margin": {
         "t": 60
        },
        "template": {
         "data": {
          "bar": [
           {
            "error_x": {
             "color": "#2a3f5f"
            },
            "error_y": {
             "color": "#2a3f5f"
            },
            "marker": {
             "line": {
              "color": "#E5ECF6",
              "width": 0.5
             },
             "pattern": {
              "fillmode": "overlay",
              "size": 10,
              "solidity": 0.2
             }
            },
            "type": "bar"
           }
          ],
          "barpolar": [
           {
            "marker": {
             "line": {
              "color": "#E5ECF6",
              "width": 0.5
             },
             "pattern": {
              "fillmode": "overlay",
              "size": 10,
              "solidity": 0.2
             }
            },
            "type": "barpolar"
           }
          ],
          "carpet": [
           {
            "aaxis": {
             "endlinecolor": "#2a3f5f",
             "gridcolor": "white",
             "linecolor": "white",
             "minorgridcolor": "white",
             "startlinecolor": "#2a3f5f"
            },
            "baxis": {
             "endlinecolor": "#2a3f5f",
             "gridcolor": "white",
             "linecolor": "white",
             "minorgridcolor": "white",
             "startlinecolor": "#2a3f5f"
            },
            "type": "carpet"
           }
          ],
          "choropleth": [
           {
            "colorbar": {
             "outlinewidth": 0,
             "ticks": ""
            },
            "type": "choropleth"
           }
          ],
          "contour": [
           {
            "colorbar": {
             "outlinewidth": 0,
             "ticks": ""
            },
            "colorscale": [
             [
              0,
              "#0d0887"
             ],
             [
              0.1111111111111111,
              "#46039f"
             ],
             [
              0.2222222222222222,
              "#7201a8"
             ],
             [
              0.3333333333333333,
              "#9c179e"
             ],
             [
              0.4444444444444444,
              "#bd3786"
             ],
             [
              0.5555555555555556,
              "#d8576b"
             ],
             [
              0.6666666666666666,
              "#ed7953"
             ],
             [
              0.7777777777777778,
              "#fb9f3a"
             ],
             [
              0.8888888888888888,
              "#fdca26"
             ],
             [
              1,
              "#f0f921"
             ]
            ],
            "type": "contour"
           }
          ],
          "contourcarpet": [
           {
            "colorbar": {
             "outlinewidth": 0,
             "ticks": ""
            },
            "type": "contourcarpet"
           }
          ],
          "heatmap": [
           {
            "colorbar": {
             "outlinewidth": 0,
             "ticks": ""
            },
            "colorscale": [
             [
              0,
              "#0d0887"
             ],
             [
              0.1111111111111111,
              "#46039f"
             ],
             [
              0.2222222222222222,
              "#7201a8"
             ],
             [
              0.3333333333333333,
              "#9c179e"
             ],
             [
              0.4444444444444444,
              "#bd3786"
             ],
             [
              0.5555555555555556,
              "#d8576b"
             ],
             [
              0.6666666666666666,
              "#ed7953"
             ],
             [
              0.7777777777777778,
              "#fb9f3a"
             ],
             [
              0.8888888888888888,
              "#fdca26"
             ],
             [
              1,
              "#f0f921"
             ]
            ],
            "type": "heatmap"
           }
          ],
          "heatmapgl": [
           {
            "colorbar": {
             "outlinewidth": 0,
             "ticks": ""
            },
            "colorscale": [
             [
              0,
              "#0d0887"
             ],
             [
              0.1111111111111111,
              "#46039f"
             ],
             [
              0.2222222222222222,
              "#7201a8"
             ],
             [
              0.3333333333333333,
              "#9c179e"
             ],
             [
              0.4444444444444444,
              "#bd3786"
             ],
             [
              0.5555555555555556,
              "#d8576b"
             ],
             [
              0.6666666666666666,
              "#ed7953"
             ],
             [
              0.7777777777777778,
              "#fb9f3a"
             ],
             [
              0.8888888888888888,
              "#fdca26"
             ],
             [
              1,
              "#f0f921"
             ]
            ],
            "type": "heatmapgl"
           }
          ],
          "histogram": [
           {
            "marker": {
             "pattern": {
              "fillmode": "overlay",
              "size": 10,
              "solidity": 0.2
             }
            },
            "type": "histogram"
           }
          ],
          "histogram2d": [
           {
            "colorbar": {
             "outlinewidth": 0,
             "ticks": ""
            },
            "colorscale": [
             [
              0,
              "#0d0887"
             ],
             [
              0.1111111111111111,
              "#46039f"
             ],
             [
              0.2222222222222222,
              "#7201a8"
             ],
             [
              0.3333333333333333,
              "#9c179e"
             ],
             [
              0.4444444444444444,
              "#bd3786"
             ],
             [
              0.5555555555555556,
              "#d8576b"
             ],
             [
              0.6666666666666666,
              "#ed7953"
             ],
             [
              0.7777777777777778,
              "#fb9f3a"
             ],
             [
              0.8888888888888888,
              "#fdca26"
             ],
             [
              1,
              "#f0f921"
             ]
            ],
            "type": "histogram2d"
           }
          ],
          "histogram2dcontour": [
           {
            "colorbar": {
             "outlinewidth": 0,
             "ticks": ""
            },
            "colorscale": [
             [
              0,
              "#0d0887"
             ],
             [
              0.1111111111111111,
              "#46039f"
             ],
             [
              0.2222222222222222,
              "#7201a8"
             ],
             [
              0.3333333333333333,
              "#9c179e"
             ],
             [
              0.4444444444444444,
              "#bd3786"
             ],
             [
              0.5555555555555556,
              "#d8576b"
             ],
             [
              0.6666666666666666,
              "#ed7953"
             ],
             [
              0.7777777777777778,
              "#fb9f3a"
             ],
             [
              0.8888888888888888,
              "#fdca26"
             ],
             [
              1,
              "#f0f921"
             ]
            ],
            "type": "histogram2dcontour"
           }
          ],
          "mesh3d": [
           {
            "colorbar": {
             "outlinewidth": 0,
             "ticks": ""
            },
            "type": "mesh3d"
           }
          ],
          "parcoords": [
           {
            "line": {
             "colorbar": {
              "outlinewidth": 0,
              "ticks": ""
             }
            },
            "type": "parcoords"
           }
          ],
          "pie": [
           {
            "automargin": true,
            "type": "pie"
           }
          ],
          "scatter": [
           {
            "marker": {
             "colorbar": {
              "outlinewidth": 0,
              "ticks": ""
             }
            },
            "type": "scatter"
           }
          ],
          "scatter3d": [
           {
            "line": {
             "colorbar": {
              "outlinewidth": 0,
              "ticks": ""
             }
            },
            "marker": {
             "colorbar": {
              "outlinewidth": 0,
              "ticks": ""
             }
            },
            "type": "scatter3d"
           }
          ],
          "scattercarpet": [
           {
            "marker": {
             "colorbar": {
              "outlinewidth": 0,
              "ticks": ""
             }
            },
            "type": "scattercarpet"
           }
          ],
          "scattergeo": [
           {
            "marker": {
             "colorbar": {
              "outlinewidth": 0,
              "ticks": ""
             }
            },
            "type": "scattergeo"
           }
          ],
          "scattergl": [
           {
            "marker": {
             "colorbar": {
              "outlinewidth": 0,
              "ticks": ""
             }
            },
            "type": "scattergl"
           }
          ],
          "scattermapbox": [
           {
            "marker": {
             "colorbar": {
              "outlinewidth": 0,
              "ticks": ""
             }
            },
            "type": "scattermapbox"
           }
          ],
          "scatterpolar": [
           {
            "marker": {
             "colorbar": {
              "outlinewidth": 0,
              "ticks": ""
             }
            },
            "type": "scatterpolar"
           }
          ],
          "scatterpolargl": [
           {
            "marker": {
             "colorbar": {
              "outlinewidth": 0,
              "ticks": ""
             }
            },
            "type": "scatterpolargl"
           }
          ],
          "scatterternary": [
           {
            "marker": {
             "colorbar": {
              "outlinewidth": 0,
              "ticks": ""
             }
            },
            "type": "scatterternary"
           }
          ],
          "surface": [
           {
            "colorbar": {
             "outlinewidth": 0,
             "ticks": ""
            },
            "colorscale": [
             [
              0,
              "#0d0887"
             ],
             [
              0.1111111111111111,
              "#46039f"
             ],
             [
              0.2222222222222222,
              "#7201a8"
             ],
             [
              0.3333333333333333,
              "#9c179e"
             ],
             [
              0.4444444444444444,
              "#bd3786"
             ],
             [
              0.5555555555555556,
              "#d8576b"
             ],
             [
              0.6666666666666666,
              "#ed7953"
             ],
             [
              0.7777777777777778,
              "#fb9f3a"
             ],
             [
              0.8888888888888888,
              "#fdca26"
             ],
             [
              1,
              "#f0f921"
             ]
            ],
            "type": "surface"
           }
          ],
          "table": [
           {
            "cells": {
             "fill": {
              "color": "#EBF0F8"
             },
             "line": {
              "color": "white"
             }
            },
            "header": {
             "fill": {
              "color": "#C8D4E3"
             },
             "line": {
              "color": "white"
             }
            },
            "type": "table"
           }
          ]
         },
         "layout": {
          "annotationdefaults": {
           "arrowcolor": "#2a3f5f",
           "arrowhead": 0,
           "arrowwidth": 1
          },
          "autotypenumbers": "strict",
          "coloraxis": {
           "colorbar": {
            "outlinewidth": 0,
            "ticks": ""
           }
          },
          "colorscale": {
           "diverging": [
            [
             0,
             "#8e0152"
            ],
            [
             0.1,
             "#c51b7d"
            ],
            [
             0.2,
             "#de77ae"
            ],
            [
             0.3,
             "#f1b6da"
            ],
            [
             0.4,
             "#fde0ef"
            ],
            [
             0.5,
             "#f7f7f7"
            ],
            [
             0.6,
             "#e6f5d0"
            ],
            [
             0.7,
             "#b8e186"
            ],
            [
             0.8,
             "#7fbc41"
            ],
            [
             0.9,
             "#4d9221"
            ],
            [
             1,
             "#276419"
            ]
           ],
           "sequential": [
            [
             0,
             "#0d0887"
            ],
            [
             0.1111111111111111,
             "#46039f"
            ],
            [
             0.2222222222222222,
             "#7201a8"
            ],
            [
             0.3333333333333333,
             "#9c179e"
            ],
            [
             0.4444444444444444,
             "#bd3786"
            ],
            [
             0.5555555555555556,
             "#d8576b"
            ],
            [
             0.6666666666666666,
             "#ed7953"
            ],
            [
             0.7777777777777778,
             "#fb9f3a"
            ],
            [
             0.8888888888888888,
             "#fdca26"
            ],
            [
             1,
             "#f0f921"
            ]
           ],
           "sequentialminus": [
            [
             0,
             "#0d0887"
            ],
            [
             0.1111111111111111,
             "#46039f"
            ],
            [
             0.2222222222222222,
             "#7201a8"
            ],
            [
             0.3333333333333333,
             "#9c179e"
            ],
            [
             0.4444444444444444,
             "#bd3786"
            ],
            [
             0.5555555555555556,
             "#d8576b"
            ],
            [
             0.6666666666666666,
             "#ed7953"
            ],
            [
             0.7777777777777778,
             "#fb9f3a"
            ],
            [
             0.8888888888888888,
             "#fdca26"
            ],
            [
             1,
             "#f0f921"
            ]
           ]
          },
          "colorway": [
           "#636efa",
           "#EF553B",
           "#00cc96",
           "#ab63fa",
           "#FFA15A",
           "#19d3f3",
           "#FF6692",
           "#B6E880",
           "#FF97FF",
           "#FECB52"
          ],
          "font": {
           "color": "#2a3f5f"
          },
          "geo": {
           "bgcolor": "white",
           "lakecolor": "white",
           "landcolor": "#E5ECF6",
           "showlakes": true,
           "showland": true,
           "subunitcolor": "white"
          },
          "hoverlabel": {
           "align": "left"
          },
          "hovermode": "closest",
          "mapbox": {
           "style": "light"
          },
          "paper_bgcolor": "white",
          "plot_bgcolor": "#E5ECF6",
          "polar": {
           "angularaxis": {
            "gridcolor": "white",
            "linecolor": "white",
            "ticks": ""
           },
           "bgcolor": "#E5ECF6",
           "radialaxis": {
            "gridcolor": "white",
            "linecolor": "white",
            "ticks": ""
           }
          },
          "scene": {
           "xaxis": {
            "backgroundcolor": "#E5ECF6",
            "gridcolor": "white",
            "gridwidth": 2,
            "linecolor": "white",
            "showbackground": true,
            "ticks": "",
            "zerolinecolor": "white"
           },
           "yaxis": {
            "backgroundcolor": "#E5ECF6",
            "gridcolor": "white",
            "gridwidth": 2,
            "linecolor": "white",
            "showbackground": true,
            "ticks": "",
            "zerolinecolor": "white"
           },
           "zaxis": {
            "backgroundcolor": "#E5ECF6",
            "gridcolor": "white",
            "gridwidth": 2,
            "linecolor": "white",
            "showbackground": true,
            "ticks": "",
            "zerolinecolor": "white"
           }
          },
          "shapedefaults": {
           "line": {
            "color": "#2a3f5f"
           }
          },
          "ternary": {
           "aaxis": {
            "gridcolor": "white",
            "linecolor": "white",
            "ticks": ""
           },
           "baxis": {
            "gridcolor": "white",
            "linecolor": "white",
            "ticks": ""
           },
           "bgcolor": "#E5ECF6",
           "caxis": {
            "gridcolor": "white",
            "linecolor": "white",
            "ticks": ""
           }
          },
          "title": {
           "x": 0.05
          },
          "xaxis": {
           "automargin": true,
           "gridcolor": "white",
           "linecolor": "white",
           "ticks": "",
           "title": {
            "standoff": 15
           },
           "zerolinecolor": "white",
           "zerolinewidth": 2
          },
          "yaxis": {
           "automargin": true,
           "gridcolor": "white",
           "linecolor": "white",
           "ticks": "",
           "title": {
            "standoff": 15
           },
           "zerolinecolor": "white",
           "zerolinewidth": 2
          }
         }
        },
        "xaxis": {
         "anchor": "y",
         "domain": [
          0,
          1
         ],
         "title": {
          "text": "x"
         }
        },
        "yaxis": {
         "anchor": "x",
         "categoryorder": "total ascending",
         "domain": [
          0,
          1
         ],
         "title": {
          "text": "y"
         }
        }
       }
      }
     },
     "metadata": {},
     "output_type": "display_data"
    }
   ],
   "source": [
    "import plotly.express as px\n",
    "\n",
    "fig = px.bar(y=fdist.index, x=fdist.values)\n",
    "\n",
    "# sort values\n",
    "fig.update_layout(barmode='stack', yaxis={'categoryorder':'total ascending'})\n",
    "\n",
    "# show plot\n",
    "fig.show()"
   ]
  },
  {
   "cell_type": "markdown",
   "metadata": {
    "slideshow": {
     "slide_type": "slide"
    }
   },
   "source": [
    "### Search specific words"
   ]
  },
  {
   "cell_type": "code",
   "execution_count": 298,
   "metadata": {
    "slideshow": {
     "slide_type": "fragment"
    }
   },
   "outputs": [
    {
     "data": {
      "text/plain": [
       "2"
      ]
     },
     "execution_count": 298,
     "metadata": {},
     "output_type": "execute_result"
    }
   ],
   "source": [
    "# Show frequency of a specific word\n",
    "fd[\"americans\"]"
   ]
  },
  {
   "cell_type": "markdown",
   "metadata": {
    "slideshow": {
     "slide_type": "slide"
    }
   },
   "source": [
    "## Sentiment analysis\n",
    "\n"
   ]
  },
  {
   "cell_type": "markdown",
   "metadata": {
    "slideshow": {
     "slide_type": "fragment"
    }
   },
   "source": [
    "### VADER lexicon\n",
    "\n",
    "- NLTK provides a simple rule-based model for general sentiment analysis called VADER, which stands for \"Valence Aware Dictionary and Sentiment Reasoner\" (Hutto & Gilbert, 2014)."
   ]
  },
  {
   "cell_type": "code",
   "execution_count": 299,
   "metadata": {
    "slideshow": {
     "slide_type": "fragment"
    }
   },
   "outputs": [
    {
     "name": "stderr",
     "output_type": "stream",
     "text": [
      "[nltk_data] Downloading package vader_lexicon to\n",
      "[nltk_data]     /Users/jankirenz/nltk_data...\n",
      "[nltk_data]   Package vader_lexicon is already up-to-date!\n"
     ]
    },
    {
     "data": {
      "text/plain": [
       "True"
      ]
     },
     "execution_count": 299,
     "metadata": {},
     "output_type": "execute_result"
    }
   ],
   "source": [
    "nltk.download('vader_lexicon')"
   ]
  },
  {
   "cell_type": "markdown",
   "metadata": {
    "slideshow": {
     "slide_type": "slide"
    }
   },
   "source": [
    "### Sentiment "
   ]
  },
  {
   "cell_type": "markdown",
   "metadata": {
    "slideshow": {
     "slide_type": "slide"
    }
   },
   "source": [
    "### Sentiment Intensity Analyzer"
   ]
  },
  {
   "cell_type": "markdown",
   "metadata": {
    "slideshow": {
     "slide_type": "fragment"
    }
   },
   "source": [
    "- Initialize an object of `SentimentIntensityAnalyzer` with name \"analyzer\":"
   ]
  },
  {
   "cell_type": "code",
   "execution_count": 300,
   "metadata": {
    "slideshow": {
     "slide_type": "fragment"
    }
   },
   "outputs": [],
   "source": [
    "from nltk.sentiment import SentimentIntensityAnalyzer\n",
    "\n",
    "analyzer = SentimentIntensityAnalyzer()"
   ]
  },
  {
   "cell_type": "markdown",
   "metadata": {
    "slideshow": {
     "slide_type": "slide"
    }
   },
   "source": [
    "### Polarity scores\n",
    "\n",
    "- Use the `polarity_scores` method:"
   ]
  },
  {
   "cell_type": "code",
   "execution_count": 301,
   "metadata": {
    "slideshow": {
     "slide_type": "fragment"
    }
   },
   "outputs": [
    {
     "data": {
      "text/html": [
       "<div>\n",
       "<style scoped>\n",
       "    .dataframe tbody tr th:only-of-type {\n",
       "        vertical-align: middle;\n",
       "    }\n",
       "\n",
       "    .dataframe tbody tr th {\n",
       "        vertical-align: top;\n",
       "    }\n",
       "\n",
       "    .dataframe thead th {\n",
       "        text-align: right;\n",
       "    }\n",
       "</style>\n",
       "<table border=\"1\" class=\"dataframe\">\n",
       "  <thead>\n",
       "    <tr style=\"text-align: right;\">\n",
       "      <th></th>\n",
       "      <th>Unnamed: 0</th>\n",
       "      <th>created_at</th>\n",
       "      <th>id</th>\n",
       "      <th>author_id</th>\n",
       "      <th>text</th>\n",
       "      <th>text_token</th>\n",
       "      <th>text_string</th>\n",
       "      <th>text_string_fdist</th>\n",
       "      <th>text_string_lem</th>\n",
       "      <th>is_equal</th>\n",
       "      <th>polarity</th>\n",
       "    </tr>\n",
       "  </thead>\n",
       "  <tbody>\n",
       "    <tr>\n",
       "      <th>2</th>\n",
       "      <td>2</td>\n",
       "      <td>2022-05-16T21:24:34.000Z</td>\n",
       "      <td>1526312677521428480</td>\n",
       "      <td>813286</td>\n",
       "      <td>this weekend’s shootings in buffalo offer a tr...</td>\n",
       "      <td>[weekend, shootings, buffalo, offer, tragic, r...</td>\n",
       "      <td>weekend shootings buffalo offer tragic reminde...</td>\n",
       "      <td>weekend shootings buffalo offer tragic reminde...</td>\n",
       "      <td>weekend shootings buffalo offer tragic reminde...</td>\n",
       "      <td>True</td>\n",
       "      <td>{'neg': 0.247, 'neu': 0.557, 'pos': 0.195, 'co...</td>\n",
       "    </tr>\n",
       "    <tr>\n",
       "      <th>3</th>\n",
       "      <td>3</td>\n",
       "      <td>2022-05-16T13:16:16.000Z</td>\n",
       "      <td>1526189794665107457</td>\n",
       "      <td>813286</td>\n",
       "      <td>i’m proud to announce the voyager scholarship ...</td>\n",
       "      <td>[proud, announce, voyager, scholarship, friend...</td>\n",
       "      <td>proud announce voyager scholarship friend bche...</td>\n",
       "      <td>proud announce voyager scholarship friend bche...</td>\n",
       "      <td>proud announce voyager scholarship friend bche...</td>\n",
       "      <td>True</td>\n",
       "      <td>{'neg': 0.0, 'neu': 0.573, 'pos': 0.427, 'comp...</td>\n",
       "    </tr>\n",
       "    <tr>\n",
       "      <th>4</th>\n",
       "      <td>4</td>\n",
       "      <td>2022-05-14T15:03:07.000Z</td>\n",
       "      <td>1525491905139773442</td>\n",
       "      <td>813286</td>\n",
       "      <td>across the country, americans are standing up ...</td>\n",
       "      <td>[across, country, americans, standing, abortio...</td>\n",
       "      <td>across country americans standing abortion rig...</td>\n",
       "      <td>across country americans standing abortion rig...</td>\n",
       "      <td>across country americans standing abortion rig...</td>\n",
       "      <td>True</td>\n",
       "      <td>{'neg': 0.0, 'neu': 0.71, 'pos': 0.29, 'compou...</td>\n",
       "    </tr>\n",
       "  </tbody>\n",
       "</table>\n",
       "</div>"
      ],
      "text/plain": [
       "   Unnamed: 0                created_at                   id  author_id  \\\n",
       "2           2  2022-05-16T21:24:34.000Z  1526312677521428480     813286   \n",
       "3           3  2022-05-16T13:16:16.000Z  1526189794665107457     813286   \n",
       "4           4  2022-05-14T15:03:07.000Z  1525491905139773442     813286   \n",
       "\n",
       "                                                text  \\\n",
       "2  this weekend’s shootings in buffalo offer a tr...   \n",
       "3  i’m proud to announce the voyager scholarship ...   \n",
       "4  across the country, americans are standing up ...   \n",
       "\n",
       "                                          text_token  \\\n",
       "2  [weekend, shootings, buffalo, offer, tragic, r...   \n",
       "3  [proud, announce, voyager, scholarship, friend...   \n",
       "4  [across, country, americans, standing, abortio...   \n",
       "\n",
       "                                         text_string  \\\n",
       "2  weekend shootings buffalo offer tragic reminde...   \n",
       "3  proud announce voyager scholarship friend bche...   \n",
       "4  across country americans standing abortion rig...   \n",
       "\n",
       "                                   text_string_fdist  \\\n",
       "2  weekend shootings buffalo offer tragic reminde...   \n",
       "3  proud announce voyager scholarship friend bche...   \n",
       "4  across country americans standing abortion rig...   \n",
       "\n",
       "                                     text_string_lem  is_equal  \\\n",
       "2  weekend shootings buffalo offer tragic reminde...      True   \n",
       "3  proud announce voyager scholarship friend bche...      True   \n",
       "4  across country americans standing abortion rig...      True   \n",
       "\n",
       "                                            polarity  \n",
       "2  {'neg': 0.247, 'neu': 0.557, 'pos': 0.195, 'co...  \n",
       "3  {'neg': 0.0, 'neu': 0.573, 'pos': 0.427, 'comp...  \n",
       "4  {'neg': 0.0, 'neu': 0.71, 'pos': 0.29, 'compou...  "
      ]
     },
     "execution_count": 301,
     "metadata": {},
     "output_type": "execute_result"
    }
   ],
   "source": [
    "df['polarity'] = df['text_string_lem'].apply(lambda x: analyzer.polarity_scores(x))\n",
    "df.tail(3)"
   ]
  },
  {
   "cell_type": "markdown",
   "metadata": {
    "slideshow": {
     "slide_type": "slide"
    }
   },
   "source": [
    "### Transform data"
   ]
  },
  {
   "cell_type": "code",
   "execution_count": 302,
   "metadata": {
    "slideshow": {
     "slide_type": "fragment"
    }
   },
   "outputs": [
    {
     "data": {
      "text/html": [
       "<div>\n",
       "<style scoped>\n",
       "    .dataframe tbody tr th:only-of-type {\n",
       "        vertical-align: middle;\n",
       "    }\n",
       "\n",
       "    .dataframe tbody tr th {\n",
       "        vertical-align: top;\n",
       "    }\n",
       "\n",
       "    .dataframe thead th {\n",
       "        text-align: right;\n",
       "    }\n",
       "</style>\n",
       "<table border=\"1\" class=\"dataframe\">\n",
       "  <thead>\n",
       "    <tr style=\"text-align: right;\">\n",
       "      <th></th>\n",
       "      <th>created_at</th>\n",
       "      <th>text</th>\n",
       "      <th>text_token</th>\n",
       "      <th>text_string</th>\n",
       "      <th>text_string_fdist</th>\n",
       "      <th>text_string_lem</th>\n",
       "      <th>is_equal</th>\n",
       "      <th>neg</th>\n",
       "      <th>neu</th>\n",
       "      <th>pos</th>\n",
       "      <th>compound</th>\n",
       "    </tr>\n",
       "  </thead>\n",
       "  <tbody>\n",
       "    <tr>\n",
       "      <th>0</th>\n",
       "      <td>2022-05-16T21:24:35.000Z</td>\n",
       "      <td>it’s despicable, it’s dangerous — and it needs...</td>\n",
       "      <td>[despicable, dangerous, needs, stop, co, 0ch2z...</td>\n",
       "      <td>despicable dangerous needs stop 0ch2zosmhb</td>\n",
       "      <td>despicable dangerous needs stop 0ch2zosmhb</td>\n",
       "      <td>despicable dangerous needs stop 0ch2zosmhb</td>\n",
       "      <td>True</td>\n",
       "      <td>0.639</td>\n",
       "      <td>0.361</td>\n",
       "      <td>0.000</td>\n",
       "      <td>-0.6486</td>\n",
       "    </tr>\n",
       "    <tr>\n",
       "      <th>1</th>\n",
       "      <td>2022-05-16T21:24:34.000Z</td>\n",
       "      <td>we need to repudiate in the strongest terms th...</td>\n",
       "      <td>[need, repudiate, strongest, terms, politician...</td>\n",
       "      <td>need repudiate strongest terms politicians med...</td>\n",
       "      <td>need repudiate strongest terms politicians med...</td>\n",
       "      <td>need repudiate strongest terms politicians med...</td>\n",
       "      <td>True</td>\n",
       "      <td>0.247</td>\n",
       "      <td>0.458</td>\n",
       "      <td>0.295</td>\n",
       "      <td>0.2263</td>\n",
       "    </tr>\n",
       "    <tr>\n",
       "      <th>2</th>\n",
       "      <td>2022-05-16T21:24:34.000Z</td>\n",
       "      <td>this weekend’s shootings in buffalo offer a tr...</td>\n",
       "      <td>[weekend, shootings, buffalo, offer, tragic, r...</td>\n",
       "      <td>weekend shootings buffalo offer tragic reminde...</td>\n",
       "      <td>weekend shootings buffalo offer tragic reminde...</td>\n",
       "      <td>weekend shootings buffalo offer tragic reminde...</td>\n",
       "      <td>True</td>\n",
       "      <td>0.247</td>\n",
       "      <td>0.557</td>\n",
       "      <td>0.195</td>\n",
       "      <td>-0.1280</td>\n",
       "    </tr>\n",
       "  </tbody>\n",
       "</table>\n",
       "</div>"
      ],
      "text/plain": [
       "                 created_at  \\\n",
       "0  2022-05-16T21:24:35.000Z   \n",
       "1  2022-05-16T21:24:34.000Z   \n",
       "2  2022-05-16T21:24:34.000Z   \n",
       "\n",
       "                                                text  \\\n",
       "0  it’s despicable, it’s dangerous — and it needs...   \n",
       "1  we need to repudiate in the strongest terms th...   \n",
       "2  this weekend’s shootings in buffalo offer a tr...   \n",
       "\n",
       "                                          text_token  \\\n",
       "0  [despicable, dangerous, needs, stop, co, 0ch2z...   \n",
       "1  [need, repudiate, strongest, terms, politician...   \n",
       "2  [weekend, shootings, buffalo, offer, tragic, r...   \n",
       "\n",
       "                                         text_string  \\\n",
       "0         despicable dangerous needs stop 0ch2zosmhb   \n",
       "1  need repudiate strongest terms politicians med...   \n",
       "2  weekend shootings buffalo offer tragic reminde...   \n",
       "\n",
       "                                   text_string_fdist  \\\n",
       "0         despicable dangerous needs stop 0ch2zosmhb   \n",
       "1  need repudiate strongest terms politicians med...   \n",
       "2  weekend shootings buffalo offer tragic reminde...   \n",
       "\n",
       "                                     text_string_lem  is_equal    neg    neu  \\\n",
       "0         despicable dangerous needs stop 0ch2zosmhb      True  0.639  0.361   \n",
       "1  need repudiate strongest terms politicians med...      True  0.247  0.458   \n",
       "2  weekend shootings buffalo offer tragic reminde...      True  0.247  0.557   \n",
       "\n",
       "     pos  compound  \n",
       "0  0.000   -0.6486  \n",
       "1  0.295    0.2263  \n",
       "2  0.195   -0.1280  "
      ]
     },
     "execution_count": 302,
     "metadata": {},
     "output_type": "execute_result"
    }
   ],
   "source": [
    "# Change data structure\n",
    "df = pd.concat(\n",
    "    [df.drop(['Unnamed: 0', 'id', 'author_id', 'polarity'], axis=1), \n",
    "     df['polarity'].apply(pd.Series)], axis=1)\n",
    "df.head(3)"
   ]
  },
  {
   "cell_type": "code",
   "execution_count": 303,
   "metadata": {
    "slideshow": {
     "slide_type": "slide"
    }
   },
   "outputs": [
    {
     "data": {
      "text/html": [
       "<div>\n",
       "<style scoped>\n",
       "    .dataframe tbody tr th:only-of-type {\n",
       "        vertical-align: middle;\n",
       "    }\n",
       "\n",
       "    .dataframe tbody tr th {\n",
       "        vertical-align: top;\n",
       "    }\n",
       "\n",
       "    .dataframe thead th {\n",
       "        text-align: right;\n",
       "    }\n",
       "</style>\n",
       "<table border=\"1\" class=\"dataframe\">\n",
       "  <thead>\n",
       "    <tr style=\"text-align: right;\">\n",
       "      <th></th>\n",
       "      <th>created_at</th>\n",
       "      <th>text</th>\n",
       "      <th>text_token</th>\n",
       "      <th>text_string</th>\n",
       "      <th>text_string_fdist</th>\n",
       "      <th>text_string_lem</th>\n",
       "      <th>is_equal</th>\n",
       "      <th>neg</th>\n",
       "      <th>neu</th>\n",
       "      <th>pos</th>\n",
       "      <th>compound</th>\n",
       "      <th>sentiment</th>\n",
       "    </tr>\n",
       "  </thead>\n",
       "  <tbody>\n",
       "    <tr>\n",
       "      <th>0</th>\n",
       "      <td>2022-05-16T21:24:35.000Z</td>\n",
       "      <td>it’s despicable, it’s dangerous — and it needs...</td>\n",
       "      <td>[despicable, dangerous, needs, stop, co, 0ch2z...</td>\n",
       "      <td>despicable dangerous needs stop 0ch2zosmhb</td>\n",
       "      <td>despicable dangerous needs stop 0ch2zosmhb</td>\n",
       "      <td>despicable dangerous needs stop 0ch2zosmhb</td>\n",
       "      <td>True</td>\n",
       "      <td>0.639</td>\n",
       "      <td>0.361</td>\n",
       "      <td>0.000</td>\n",
       "      <td>-0.6486</td>\n",
       "      <td>negative</td>\n",
       "    </tr>\n",
       "    <tr>\n",
       "      <th>1</th>\n",
       "      <td>2022-05-16T21:24:34.000Z</td>\n",
       "      <td>we need to repudiate in the strongest terms th...</td>\n",
       "      <td>[need, repudiate, strongest, terms, politician...</td>\n",
       "      <td>need repudiate strongest terms politicians med...</td>\n",
       "      <td>need repudiate strongest terms politicians med...</td>\n",
       "      <td>need repudiate strongest terms politicians med...</td>\n",
       "      <td>True</td>\n",
       "      <td>0.247</td>\n",
       "      <td>0.458</td>\n",
       "      <td>0.295</td>\n",
       "      <td>0.2263</td>\n",
       "      <td>positive</td>\n",
       "    </tr>\n",
       "    <tr>\n",
       "      <th>2</th>\n",
       "      <td>2022-05-16T21:24:34.000Z</td>\n",
       "      <td>this weekend’s shootings in buffalo offer a tr...</td>\n",
       "      <td>[weekend, shootings, buffalo, offer, tragic, r...</td>\n",
       "      <td>weekend shootings buffalo offer tragic reminde...</td>\n",
       "      <td>weekend shootings buffalo offer tragic reminde...</td>\n",
       "      <td>weekend shootings buffalo offer tragic reminde...</td>\n",
       "      <td>True</td>\n",
       "      <td>0.247</td>\n",
       "      <td>0.557</td>\n",
       "      <td>0.195</td>\n",
       "      <td>-0.1280</td>\n",
       "      <td>negative</td>\n",
       "    </tr>\n",
       "    <tr>\n",
       "      <th>3</th>\n",
       "      <td>2022-05-16T13:16:16.000Z</td>\n",
       "      <td>i’m proud to announce the voyager scholarship ...</td>\n",
       "      <td>[proud, announce, voyager, scholarship, friend...</td>\n",
       "      <td>proud announce voyager scholarship friend bche...</td>\n",
       "      <td>proud announce voyager scholarship friend bche...</td>\n",
       "      <td>proud announce voyager scholarship friend bche...</td>\n",
       "      <td>True</td>\n",
       "      <td>0.000</td>\n",
       "      <td>0.573</td>\n",
       "      <td>0.427</td>\n",
       "      <td>0.9313</td>\n",
       "      <td>positive</td>\n",
       "    </tr>\n",
       "  </tbody>\n",
       "</table>\n",
       "</div>"
      ],
      "text/plain": [
       "                 created_at  \\\n",
       "0  2022-05-16T21:24:35.000Z   \n",
       "1  2022-05-16T21:24:34.000Z   \n",
       "2  2022-05-16T21:24:34.000Z   \n",
       "3  2022-05-16T13:16:16.000Z   \n",
       "\n",
       "                                                text  \\\n",
       "0  it’s despicable, it’s dangerous — and it needs...   \n",
       "1  we need to repudiate in the strongest terms th...   \n",
       "2  this weekend’s shootings in buffalo offer a tr...   \n",
       "3  i’m proud to announce the voyager scholarship ...   \n",
       "\n",
       "                                          text_token  \\\n",
       "0  [despicable, dangerous, needs, stop, co, 0ch2z...   \n",
       "1  [need, repudiate, strongest, terms, politician...   \n",
       "2  [weekend, shootings, buffalo, offer, tragic, r...   \n",
       "3  [proud, announce, voyager, scholarship, friend...   \n",
       "\n",
       "                                         text_string  \\\n",
       "0         despicable dangerous needs stop 0ch2zosmhb   \n",
       "1  need repudiate strongest terms politicians med...   \n",
       "2  weekend shootings buffalo offer tragic reminde...   \n",
       "3  proud announce voyager scholarship friend bche...   \n",
       "\n",
       "                                   text_string_fdist  \\\n",
       "0         despicable dangerous needs stop 0ch2zosmhb   \n",
       "1  need repudiate strongest terms politicians med...   \n",
       "2  weekend shootings buffalo offer tragic reminde...   \n",
       "3  proud announce voyager scholarship friend bche...   \n",
       "\n",
       "                                     text_string_lem  is_equal    neg    neu  \\\n",
       "0         despicable dangerous needs stop 0ch2zosmhb      True  0.639  0.361   \n",
       "1  need repudiate strongest terms politicians med...      True  0.247  0.458   \n",
       "2  weekend shootings buffalo offer tragic reminde...      True  0.247  0.557   \n",
       "3  proud announce voyager scholarship friend bche...      True  0.000  0.573   \n",
       "\n",
       "     pos  compound sentiment  \n",
       "0  0.000   -0.6486  negative  \n",
       "1  0.295    0.2263  positive  \n",
       "2  0.195   -0.1280  negative  \n",
       "3  0.427    0.9313  positive  "
      ]
     },
     "execution_count": 303,
     "metadata": {},
     "output_type": "execute_result"
    }
   ],
   "source": [
    "# Create new variable with sentiment \"neutral,\" \"positive\" and \"negative\"\n",
    "df['sentiment'] = df['compound'].apply(lambda x: 'positive' if x >0 else 'neutral' if x==0 else 'negative')\n",
    "df.head(4)"
   ]
  },
  {
   "cell_type": "markdown",
   "metadata": {
    "slideshow": {
     "slide_type": "slide"
    }
   },
   "source": [
    "### Analyze data"
   ]
  },
  {
   "cell_type": "code",
   "execution_count": 304,
   "metadata": {
    "slideshow": {
     "slide_type": "fragment"
    }
   },
   "outputs": [
    {
     "data": {
      "text/plain": [
       "array(['2022-05-16T13:16:16.000Z',\n",
       "       'i’m proud to announce the voyager scholarship with my friend @bchesky. we hope to provide young people with an interest in public service with some financial support to graduate college, exposure to travel, and the networks they need to make a difference. https://t.co/rbtrjalgpe https://t.co/rz7qknmmww',\n",
       "       list(['proud', 'announce', 'voyager', 'scholarship', 'friend', 'bchesky', 'hope', 'provide', 'young', 'people', 'interest', 'public', 'service', 'financial', 'support', 'graduate', 'college', 'exposure', 'travel', 'networks', 'need', 'make', 'difference', 'co', 'rbtrjalgpe', 'co', 'rz7qknmmww']),\n",
       "       'proud announce voyager scholarship friend bchesky hope provide young people interest public service financial support graduate college exposure travel networks need make difference rbtrjalgpe rz7qknmmww',\n",
       "       'proud announce voyager scholarship friend bchesky hope provide young people interest public service financial support graduate college exposure travel networks need make difference rbtrjalgpe rz7qknmmww',\n",
       "       'proud announce voyager scholarship friend bchesky hope provide young people interest public service financial support graduate college exposure travel networks need make difference rbtrjalgpe rz7qknmmww',\n",
       "       True, 0.0, 0.573, 0.427, 0.9313, 'positive'], dtype=object)"
      ]
     },
     "execution_count": 304,
     "metadata": {},
     "output_type": "execute_result"
    }
   ],
   "source": [
    "# Tweet with highest positive sentiment\n",
    "df.loc[df['compound'].idxmax()].values"
   ]
  },
  {
   "cell_type": "code",
   "execution_count": 305,
   "metadata": {
    "slideshow": {
     "slide_type": "subslide"
    }
   },
   "outputs": [
    {
     "data": {
      "text/plain": [
       "array(['2022-05-16T21:24:35.000Z',\n",
       "       'it’s despicable, it’s dangerous — and it needs to stop.\\nhttps://t.co/0ch2zosmhb',\n",
       "       list(['despicable', 'dangerous', 'needs', 'stop', 'co', '0ch2zosmhb']),\n",
       "       'despicable dangerous needs stop 0ch2zosmhb',\n",
       "       'despicable dangerous needs stop 0ch2zosmhb',\n",
       "       'despicable dangerous needs stop 0ch2zosmhb', True, 0.639, 0.361,\n",
       "       0.0, -0.6486, 'negative'], dtype=object)"
      ]
     },
     "execution_count": 305,
     "metadata": {},
     "output_type": "execute_result"
    }
   ],
   "source": [
    "# Tweet with highest negative sentiment \n",
    "# ...seems to be a case of wrong classification because of the word \"deficit\"\n",
    "df.loc[df['compound'].idxmin()].values"
   ]
  },
  {
   "cell_type": "markdown",
   "metadata": {
    "slideshow": {
     "slide_type": "slide"
    }
   },
   "source": [
    "### Visualize data"
   ]
  },
  {
   "cell_type": "code",
   "execution_count": 306,
   "metadata": {
    "slideshow": {
     "slide_type": "fragment"
    }
   },
   "outputs": [
    {
     "data": {
      "image/png": "[encoded data removed]",
      "text/plain": [
       "<Figure size 432x288 with 1 Axes>"
      ]
     },
     "metadata": {},
     "output_type": "display_data"
    }
   ],
   "source": [
    "# Number of tweets \n",
    "sns.countplot(y='sentiment', \n",
    "             data=df, \n",
    "             palette=['#b2d8d8',\"#008080\", '#db3d13']\n",
    "             );"
   ]
  },
  {
   "cell_type": "code",
   "execution_count": 307,
   "metadata": {
    "slideshow": {
     "slide_type": "slide"
    }
   },
   "outputs": [
    {
     "data": {
      "image/png": "[encoded data removed]",
      "text/plain": [
       "<Figure size 432x288 with 1 Axes>"
      ]
     },
     "metadata": {},
     "output_type": "display_data"
    }
   ],
   "source": [
    "# Lineplot\n",
    "g = sns.lineplot(x='created_at', y='compound', data=df)\n",
    "\n",
    "g.set(xticklabels=[]) \n",
    "g.set(title='Sentiment of Tweets')\n",
    "g.set(xlabel=\"Time\")\n",
    "g.set(ylabel=\"Sentiment\")\n",
    "g.tick_params(bottom=False)\n",
    "\n",
    "g.axhline(0, ls='--', c = 'grey');"
   ]
  },
  {
   "cell_type": "code",
   "execution_count": 308,
   "metadata": {
    "slideshow": {
     "slide_type": "slide"
    }
   },
   "outputs": [
    {
     "data": {
      "image/png": "[encoded data removed]",
      "text/plain": [
       "<Figure size 432x288 with 1 Axes>"
      ]
     },
     "metadata": {},
     "output_type": "display_data"
    }
   ],
   "source": [
    "# Boxplot\n",
    "sns.boxplot(y='compound', \n",
    "            x='sentiment',\n",
    "            palette=['#b2d8d8',\"#008080\", '#db3d13'], \n",
    "            data=df);"
   ]
  },
  {
   "cell_type": "markdown",
   "metadata": {
    "slideshow": {
     "slide_type": "notes"
    }
   },
   "source": [
    "Literature:\n",
    "\n",
    "[Hutto, C.J. & Gilbert, E.E. (2014). VADER: A Parsimonious Rule-based Model for\n",
    "Sentiment Analysis of Social Media Text. Eighth International Conference on\n",
    "Weblogs and Social Media (ICWSM-14). Ann Arbor, MI, June 2014.](https://ojs.aaai.org/index.php/ICWSM/article/view/14550)"
   ]
  }
 ],
 "metadata": {
  "celltoolbar": "Slideshow",
  "interpreter": {
   "hash": "382e9b3ae7fece5ac776021ec82a23b5674b7a3a0d3a43441ebaa89aee2b29a3"
  },
  "kernelspec": {
   "display_name": "Python 3 (ipykernel)",
   "language": "python",
   "name": "python3"
  },
  "language_info": {
   "codemirror_mode": {
    "name": "ipython",
    "version": 3
   },
   "file_extension": ".py",
   "mimetype": "text/x-python",
   "name": "python",
   "nbconvert_exporter": "python",
   "pygments_lexer": "ipython3",
   "version": "3.9.12"
  },
  "varInspector": {
   "cols": {
    "lenName": 16,
    "lenType": 16,
    "lenVar": 40
   },
   "kernels_config": {
    "python": {
     "delete_cmd_postfix": "",
     "delete_cmd_prefix": "del ",
     "library": "var_list.py",
     "varRefreshCmd": "print(var_dic_list())"
    },
    "r": {
     "delete_cmd_postfix": ") ",
     "delete_cmd_prefix": "rm(",
     "library": "var_list.r",
     "varRefreshCmd": "cat(var_dic_list()) "
    }
   },
   "types_to_exclude": [
    "module",
    "function",
    "builtin_function_or_method",
    "instance",
    "_Feature"
   ],
   "window_display": false
  }
 },
 "nbformat": 4,
 "nbformat_minor": 2
}
